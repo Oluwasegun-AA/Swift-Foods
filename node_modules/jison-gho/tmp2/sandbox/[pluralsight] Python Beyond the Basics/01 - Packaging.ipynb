{
 "cells": [
  {
   "cell_type": "markdown",
   "metadata": {},
   "source": [
    "# 1 - Packaging"
   ]
  },
  {
   "cell_type": "markdown",
   "metadata": {},
   "source": [
    "## Absolute imports\n",
    "Imports which use a full path to the module\n",
    "* from reader.reader import Reader"
   ]
  },
  {
   "cell_type": "code",
   "execution_count": 1,
   "metadata": {
    "collapsed": false
   },
   "outputs": [
    {
     "name": "stdout",
     "output_type": "stream",
     "text": [
      "<class 'module'> <class 'module'>\n"
     ]
    },
    {
     "data": {
      "text/plain": [
       "['C:\\\\Anaconda3\\\\lib\\\\urllib']"
      ]
     },
     "execution_count": 1,
     "metadata": {},
     "output_type": "execute_result"
    }
   ],
   "source": [
    "import urllib  # package == directory\n",
    "import urllib.request  # module == single file\n",
    "print(type(urllib), type(urllib.request))\n",
    "urllib.__path__  # Where urllib searches for nested modules"
   ]
  },
  {
   "cell_type": "code",
   "execution_count": 3,
   "metadata": {
    "collapsed": false
   },
   "outputs": [
    {
     "data": {
      "text/plain": [
       "['',\n",
       " 'C:\\\\Anaconda3\\\\python35.zip',\n",
       " 'C:\\\\Anaconda3\\\\DLLs',\n",
       " 'C:\\\\Anaconda3\\\\lib',\n",
       " 'C:\\\\Anaconda3',\n",
       " 'c:\\\\anaconda3\\\\lib\\\\site-packages\\\\setuptools-20.3-py3.5.egg',\n",
       " 'C:\\\\Anaconda3\\\\lib\\\\site-packages',\n",
       " 'C:\\\\Anaconda3\\\\lib\\\\site-packages\\\\Sphinx-1.3.5-py3.5.egg',\n",
       " 'C:\\\\Anaconda3\\\\lib\\\\site-packages\\\\win32',\n",
       " 'C:\\\\Anaconda3\\\\lib\\\\site-packages\\\\win32\\\\lib',\n",
       " 'C:\\\\Anaconda3\\\\lib\\\\site-packages\\\\Pythonwin',\n",
       " 'C:\\\\Anaconda3\\\\lib\\\\site-packages\\\\IPython\\\\extensions',\n",
       " 'C:\\\\Users\\\\Spiridonov\\\\.ipython']"
      ]
     },
     "execution_count": 3,
     "metadata": {},
     "output_type": "execute_result"
    }
   ],
   "source": [
    "# sys.path\n",
    "# Python checks sys.path - list of directories Python searches\n",
    "# for modules\n",
    "import sys\n",
    "sys.path"
   ]
  },
  {
   "cell_type": "code",
   "execution_count": 7,
   "metadata": {
    "collapsed": false
   },
   "outputs": [
    {
     "data": {
      "text/plain": [
       "''"
      ]
     },
     "execution_count": 7,
     "metadata": {},
     "output_type": "execute_result"
    }
   ],
   "source": [
    "sys.path[0]  # '' - look in current directory first\n",
    "# sys.path.append('not_searched')  # add entries to sys.path"
   ]
  },
  {
   "cell_type": "code",
   "execution_count": 12,
   "metadata": {
    "collapsed": false
   },
   "outputs": [
    {
     "name": "stdout",
     "output_type": "stream",
     "text": [
      "%PYTHONPATH%\n"
     ]
    }
   ],
   "source": [
    "# PYTHONPATH - environment variable listing paths to look for modules\n",
    "!echo %PYTHONPATH%"
   ]
  },
  {
   "cell_type": "code",
   "execution_count": 1,
   "metadata": {
    "collapsed": false
   },
   "outputs": [
    {
     "name": "stdout",
     "output_type": "stream",
     "text": [
      "<class 'module'> c:\\code\\sandbox\\anaconda\\[pluralsight] Python Beyond the Basics\\reader\\__init__.py\n"
     ]
    },
    {
     "data": {
      "text/plain": [
       "'c:\\\\code\\\\sandbox\\\\anaconda\\\\[pluralsight] Python Beyond the Basics\\\\reader\\\\reader.py'"
      ]
     },
     "execution_count": 1,
     "metadata": {},
     "output_type": "execute_result"
    }
   ],
   "source": [
    "# path_entry/my_package/__init__.py\n",
    "# path_entry -- must be in sys.path\n",
    "# __init__.py makes package a module\n",
    "import reader\n",
    "print(type(reader),reader.__file__)\n",
    "import reader.reader\n",
    "reader.reader.__file__"
   ]
  },
  {
   "cell_type": "code",
   "execution_count": 3,
   "metadata": {
    "collapsed": false
   },
   "outputs": [
    {
     "name": "stdout",
     "output_type": "stream",
     "text": [
      "# print('reader is being imported!')\n",
      "from reader.reader import Reader  # hoist to top-level package\n",
      "# print('reader is being imported!')\n",
      "from reader.reader import Reader  # hoist to top-level package\n"
     ]
    }
   ],
   "source": [
    "import reader\n",
    "# Added \"from reader.reader import Reader\" to __init__.py\n",
    "# The code from __init__.py gets executed..\n",
    "# ..and the result is bound to reader namespace!\n",
    "# otherwise would have to type r = reader.reader.Reader('reader/reader.py')  \n",
    "r = reader.Reader('reader/__init__.py')\n",
    "print(r.read())\n",
    "r.close()\n",
    "\n",
    "# ..or even more concise - import into global namespace\n",
    "# (if __init__.py was empty, one would have to specify the file in the package, i.e. \"from reader.reader import Reader\")\n",
    "from reader import Reader\n",
    "r = Reader('reader/__init__.py')\n",
    "print(r.read())\n",
    "r.close()"
   ]
  },
  {
   "cell_type": "code",
   "execution_count": 5,
   "metadata": {
    "collapsed": true
   },
   "outputs": [],
   "source": [
    "import reader\n",
    "import reader.compressed\n",
    "import reader.compressed.bzipped"
   ]
  },
  {
   "cell_type": "code",
   "execution_count": 17,
   "metadata": {
    "collapsed": false
   },
   "outputs": [
    {
     "name": "stdout",
     "output_type": "stream",
     "text": [
      "data compressed with bz2\n",
      "data compressed with gzip\n"
     ]
    }
   ],
   "source": [
    "# Create compressed files\n",
    "!python -m reader.compressed.bzipped test.bz2 data compressed with bz2\n",
    "!python -m reader.compressed.gzipped test.gz data compressed with gzip\n",
    "\n",
    "import reader\n",
    "r = reader.Reader('test.bz2')\n",
    "print(r.read())\n",
    "r.close()\n",
    "\n",
    "r = reader.Reader('test.gz')\n",
    "print(r.read())\n",
    "r.close()"
   ]
  },
  {
   "cell_type": "markdown",
   "metadata": {},
   "source": [
    "## Relative imports\n",
    "Imports which use a relative path to modules **in the same package**\n",
    "* from .reader import Reader\n",
    "* . - same directory, .. - parent directory, etc."
   ]
  },
  {
   "cell_type": "markdown",
   "metadata": {},
   "source": [
    "farm / bovine / {cow.py, common.py}\n",
    "* In cow.py one could use one of the following\n",
    "* Absolute: `from farm.bovine.common import ruminate`\n",
    "* Relative: \n",
    "    * `from .common import ruminate`\n",
    "    * `from . import common` => use commmon.function() "
   ]
  },
  {
   "cell_type": "markdown",
   "metadata": {},
   "source": [
    "## \\__all\\__ attribute\n",
    "List of attribute names imported via `from module import *`"
   ]
  },
  {
   "cell_type": "code",
   "execution_count": 10,
   "metadata": {
    "collapsed": false
   },
   "outputs": [
    {
     "name": "stdout",
     "output_type": "stream",
     "text": [
      "<class 'function'> <class 'function'>\n"
     ]
    }
   ],
   "source": [
    "from reader.compressed import *\n",
    "locals()\n",
    "print(type(bz2_opener),type(gzip_opener))"
   ]
  },
  {
   "cell_type": "markdown",
   "metadata": {},
   "source": [
    "## namespace packages\n",
    "Packages split accross several directories (PEP420) \n",
    "* have no `__init__.py`\n",
    "* This avoids complex initialization oredering problems.\n",
    "* How does Python finds namespace packages then? **When asked to import name \"foo\", Python does the following:**\n",
    "    * scans all entries in sys.path\n",
    "    * if `foo/__init__.py` -> normal package is loaded\n",
    "    * if foo.py, then this module is loaded\n",
    "    * otherwise, all matching dirs in sys.path are considered\n",
    "    part of the namespace package"
   ]
  },
  {
   "cell_type": "code",
   "execution_count": 13,
   "metadata": {
    "collapsed": true
   },
   "outputs": [
    {
     "ename": "ImportError",
     "evalue": "No module named 'split_farm'",
     "output_type": "error",
     "traceback": [
      "\u001b[1;31m---------------------------------------------------------------------------\u001b[0m",
      "\u001b[1;31mImportError\u001b[0m                               Traceback (most recent call last)",
      "\u001b[1;32m<ipython-input-13-8daf93e2ccbf>\u001b[0m in \u001b[0;36m<module>\u001b[1;34m()\u001b[0m\n\u001b[0;32m      7\u001b[0m \u001b[1;33m\u001b[0m\u001b[0m\n\u001b[0;32m      8\u001b[0m \u001b[1;31m# Python loads all matching dirs according to the algorithm\u001b[0m\u001b[1;33m\u001b[0m\u001b[1;33m\u001b[0m\u001b[0m\n\u001b[1;32m----> 9\u001b[1;33m \u001b[1;32mimport\u001b[0m \u001b[0msplit_farm\u001b[0m\u001b[1;33m\u001b[0m\u001b[0m\n\u001b[0m\u001b[0;32m     10\u001b[0m \u001b[1;33m\u001b[0m\u001b[0m\n\u001b[0;32m     11\u001b[0m \u001b[0msplit_farm\u001b[0m\u001b[1;33m.\u001b[0m\u001b[0m__path__\u001b[0m\u001b[1;33m\u001b[0m\u001b[0m\n",
      "\u001b[1;31mImportError\u001b[0m: No module named 'split_farm'"
     ]
    }
   ],
   "source": [
    "# split_farm is a namespace package\n",
    "# path1/split_farm/bovine/{__init__.py, cow.py, string.py}\n",
    "# path2/split_farm/bird/{__init__.py, chicken.py, turkey.py}\n",
    "import sys\n",
    "# ensure both path1 and path2 are in sys.path\n",
    "sys.path.extend(['path1', 'path2'])\n",
    "\n",
    "# Python loads all matching dirs according to the algorithm\n",
    "import split_farm\n",
    "\n",
    "split_farm.__path__\n",
    "import split_farm.bird  # path2/split_farm/bird\n",
    "import split_farm.bovine  # path1/split_farm/bovine"
   ]
  },
  {
   "cell_type": "markdown",
   "metadata": {},
   "source": [
    "## Executable directories\n",
    "Directories containing entry point for Python execution. One step further - executable zip file."
   ]
  },
  {
   "cell_type": "code",
   "execution_count": 24,
   "metadata": {
    "collapsed": false
   },
   "outputs": [
    {
     "name": "stdout",
     "output_type": "stream",
     "text": [
      "data compressed with gzip\n"
     ]
    }
   ],
   "source": [
    "!python reader_exec test.gz  \n",
    "    # ==> can put __main__.py in a directory"
   ]
  },
  {
   "cell_type": "code",
   "execution_count": 23,
   "metadata": {
    "collapsed": false
   },
   "outputs": [
    {
     "name": "stdout",
     "output_type": "stream",
     "text": [
      "executing __main__.py with name __main__\n"
     ]
    }
   ],
   "source": [
    "!python reader/compressed"
   ]
  },
  {
   "cell_type": "markdown",
   "metadata": {},
   "source": [
    "## Recommended project structure\n",
    "* project_name\n",
    "    * licence\n",
    "    * `__main__.py`\n",
    "    * project_name\n",
    "        * `__init__.py`\n",
    "        * more_source.py\n",
    "        * subpackage1\n",
    "            * `__init__.py`\n",
    "        * test\n",
    "            * `__init__.py`\n",
    "            * test_code.py\n",
    "    * setup.py"
   ]
  },
  {
   "cell_type": "markdown",
   "metadata": {},
   "source": [
    "## Singleton\n",
    "Implement Singleton as a module-level attribute.\n",
    "* Modules are only executed once, when first imported.\n",
    "* Module initialization order is well defined\n",
    "\n",
    "**registry.py**\n",
    "\n",
    "```\n",
    "_registry = []\n",
    "\n",
    "def register(name):\n",
    "    _register.append(name)\n",
    "    \n",
    "def registered_names():\n",
    "    return iter(_registry)\n",
    "```\n",
    "\n",
    "**use_registry.py**\n",
    "\n",
    "```\n",
    "import registry\n",
    "\n",
    "registry.register('my name')\n",
    "for name in registry.registered_names():\n",
    "    print(name)\n",
    "```\n"
   ]
  }
 ],
 "metadata": {
  "kernelspec": {
   "display_name": "Python 3",
   "language": "python",
   "name": "python3"
  },
  "language_info": {
   "codemirror_mode": {
    "name": "ipython",
    "version": 3
   },
   "file_extension": ".py",
   "mimetype": "text/x-python",
   "name": "python",
   "nbconvert_exporter": "python",
   "pygments_lexer": "ipython3",
   "version": "3.5.1"
  }
 },
 "nbformat": 4,
 "nbformat_minor": 0
}
