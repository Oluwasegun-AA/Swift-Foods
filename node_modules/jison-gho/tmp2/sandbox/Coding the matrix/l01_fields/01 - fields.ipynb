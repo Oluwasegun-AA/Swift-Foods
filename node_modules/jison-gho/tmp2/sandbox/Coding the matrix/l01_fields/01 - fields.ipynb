{
 "cells": [
  {
   "cell_type": "code",
   "execution_count": 2,
   "metadata": {
    "collapsed": true
   },
   "outputs": [],
   "source": [
    "# Import context\n",
    "import sys\n",
    "import os\n",
    "sys.path.insert(0, os.path.abspath('..\\\\matlib'))\n",
    "sys.path.append('..')  # Add parent directory (root)"
   ]
  },
  {
   "cell_type": "markdown",
   "metadata": {},
   "source": [
    "# Complex numbers"
   ]
  },
  {
   "cell_type": "code",
   "execution_count": 3,
   "metadata": {
    "collapsed": false
   },
   "outputs": [
    {
     "ename": "FileNotFoundError",
     "evalue": "[Errno 2] No such file or directory: 'img01.png'",
     "output_type": "error",
     "traceback": [
      "\u001b[1;31m---------------------------------------------------------------------------\u001b[0m",
      "\u001b[1;31mFileNotFoundError\u001b[0m                         Traceback (most recent call last)",
      "\u001b[1;32m<ipython-input-3-13eeb94fb3c7>\u001b[0m in \u001b[0;36m<module>\u001b[1;34m()\u001b[0m\n\u001b[0;32m      5\u001b[0m \u001b[1;33m\u001b[0m\u001b[0m\n\u001b[0;32m      6\u001b[0m \u001b[1;32mfrom\u001b[0m \u001b[0mimage\u001b[0m \u001b[1;32mimport\u001b[0m \u001b[1;33m*\u001b[0m\u001b[1;33m\u001b[0m\u001b[0m\n\u001b[1;32m----> 7\u001b[1;33m \u001b[0mI\u001b[0m \u001b[1;33m=\u001b[0m \u001b[0mcolor2gray\u001b[0m\u001b[1;33m(\u001b[0m\u001b[0mfile2image\u001b[0m\u001b[1;33m(\u001b[0m\u001b[1;34m'img01.png'\u001b[0m\u001b[1;33m)\u001b[0m\u001b[1;33m)\u001b[0m\u001b[1;33m\u001b[0m\u001b[0m\n\u001b[0m\u001b[0;32m      8\u001b[0m \u001b[0mr\u001b[0m \u001b[1;33m=\u001b[0m \u001b[0mlen\u001b[0m\u001b[1;33m(\u001b[0m\u001b[0mI\u001b[0m\u001b[1;33m)\u001b[0m  \u001b[1;31m# number of rows\u001b[0m\u001b[1;33m\u001b[0m\u001b[0m\n\u001b[0;32m      9\u001b[0m \u001b[0mc\u001b[0m \u001b[1;33m=\u001b[0m \u001b[0mlen\u001b[0m\u001b[1;33m(\u001b[0m\u001b[0mI\u001b[0m\u001b[1;33m[\u001b[0m\u001b[1;36m0\u001b[0m\u001b[1;33m]\u001b[0m\u001b[1;33m)\u001b[0m \u001b[1;31m# number of columns\u001b[0m\u001b[1;33m\u001b[0m\u001b[0m\n",
      "\u001b[1;32mc:\\code\\sandbox\\anaconda\\Coding the matrix\\matlib\\image.py\u001b[0m in \u001b[0;36mfile2image\u001b[1;34m(path)\u001b[0m\n\u001b[0;32m     71\u001b[0m     \"\"\" Reads an image into a list of lists of pixel values (tuples with\n\u001b[0;32m     72\u001b[0m         three values). This is a color image. \"\"\"\n\u001b[1;32m---> 73\u001b[1;33m     \u001b[1;33m(\u001b[0m\u001b[0mw\u001b[0m\u001b[1;33m,\u001b[0m \u001b[0mh\u001b[0m\u001b[1;33m,\u001b[0m \u001b[0mp\u001b[0m\u001b[1;33m,\u001b[0m \u001b[0mm\u001b[0m\u001b[1;33m)\u001b[0m \u001b[1;33m=\u001b[0m \u001b[0mpng\u001b[0m\u001b[1;33m.\u001b[0m\u001b[0mReader\u001b[0m\u001b[1;33m(\u001b[0m\u001b[0mfilename\u001b[0m \u001b[1;33m=\u001b[0m \u001b[0mpath\u001b[0m\u001b[1;33m)\u001b[0m\u001b[1;33m.\u001b[0m\u001b[0masRGBA\u001b[0m\u001b[1;33m(\u001b[0m\u001b[1;33m)\u001b[0m \u001b[1;31m# force RGB and alpha\u001b[0m\u001b[1;33m\u001b[0m\u001b[0m\n\u001b[0m\u001b[0;32m     74\u001b[0m     \u001b[1;32mreturn\u001b[0m \u001b[1;33m[\u001b[0m\u001b[0m_flat2boxed\u001b[0m\u001b[1;33m(\u001b[0m\u001b[0mr\u001b[0m\u001b[1;33m)\u001b[0m \u001b[1;32mfor\u001b[0m \u001b[0mr\u001b[0m \u001b[1;32min\u001b[0m \u001b[0mp\u001b[0m\u001b[1;33m]\u001b[0m\u001b[1;33m\u001b[0m\u001b[0m\n\u001b[0;32m     75\u001b[0m \u001b[1;33m\u001b[0m\u001b[0m\n",
      "\u001b[1;32mc:\\code\\sandbox\\anaconda\\Coding the matrix\\matlib\\png.py\u001b[0m in \u001b[0;36m__init__\u001b[1;34m(self, _guess, **kw)\u001b[0m\n\u001b[0;32m   1361\u001b[0m \u001b[1;33m\u001b[0m\u001b[0m\n\u001b[0;32m   1362\u001b[0m         \u001b[1;32mif\u001b[0m \u001b[1;34m\"filename\"\u001b[0m \u001b[1;32min\u001b[0m \u001b[0mkw\u001b[0m\u001b[1;33m:\u001b[0m\u001b[1;33m\u001b[0m\u001b[0m\n\u001b[1;32m-> 1363\u001b[1;33m             \u001b[0mself\u001b[0m\u001b[1;33m.\u001b[0m\u001b[0mfile\u001b[0m \u001b[1;33m=\u001b[0m \u001b[0mopen\u001b[0m\u001b[1;33m(\u001b[0m\u001b[0mkw\u001b[0m\u001b[1;33m[\u001b[0m\u001b[1;34m\"filename\"\u001b[0m\u001b[1;33m]\u001b[0m\u001b[1;33m,\u001b[0m \u001b[1;34m\"rb\"\u001b[0m\u001b[1;33m)\u001b[0m\u001b[1;33m\u001b[0m\u001b[0m\n\u001b[0m\u001b[0;32m   1364\u001b[0m         \u001b[1;32melif\u001b[0m \u001b[1;34m\"file\"\u001b[0m \u001b[1;32min\u001b[0m \u001b[0mkw\u001b[0m\u001b[1;33m:\u001b[0m\u001b[1;33m\u001b[0m\u001b[0m\n\u001b[0;32m   1365\u001b[0m             \u001b[0mself\u001b[0m\u001b[1;33m.\u001b[0m\u001b[0mfile\u001b[0m \u001b[1;33m=\u001b[0m \u001b[0mkw\u001b[0m\u001b[1;33m[\u001b[0m\u001b[1;34m\"file\"\u001b[0m\u001b[1;33m]\u001b[0m\u001b[1;33m\u001b[0m\u001b[0m\n",
      "\u001b[1;31mFileNotFoundError\u001b[0m: [Errno 2] No such file or directory: 'img01.png'"
     ]
    }
   ],
   "source": [
    "# Complex numbers introduction\n",
    "L = [2+2j, 3+2j, 1.75+1j, 2+1j, 2.25+1j, 2.5j, 2.75+1j, 3+1j, 3.25+1j]\n",
    "from plotting import plot\n",
    "plot(L)\n",
    "\n",
    "from image import *\n",
    "I = color2gray(file2image('img01.png'))\n",
    "r = len(I)  # number of rows\n",
    "c = len(I[0]) # number of columns\n",
    "# Define collection of complex numbers based on intensities of pixels on the image\n",
    "M = [x+y*1j for x in range(c) for y in range(r) if I[r-y-1][x]<120]\n",
    "plot(M, max(r,c), 1)"
   ]
  },
  {
   "cell_type": "code",
   "execution_count": 11,
   "metadata": {
    "collapsed": true
   },
   "outputs": [],
   "source": [
    "# Translation\n",
    "plot({z-(2+2j) for z in L}) # moving one dot to the origin\n",
    "plot([z - (c/2+(r/2)*1j) for z in M], max(r,c), 1) # centering to the origin"
   ]
  },
  {
   "cell_type": "code",
   "execution_count": 13,
   "metadata": {
    "collapsed": true
   },
   "outputs": [],
   "source": [
    "# Scaling\n",
    "plot({0.5*z for z in L})\n",
    "plot({0.5*z for z in M}, max(r,c), 1)"
   ]
  },
  {
   "cell_type": "code",
   "execution_count": 14,
   "metadata": {
    "collapsed": true
   },
   "outputs": [],
   "source": [
    "# Reflecting (multiply by -1)\n",
    "plot({-z for z in L})\n",
    "plot({-z for z in M}, max(r,c), 1)"
   ]
  },
  {
   "cell_type": "code",
   "execution_count": 16,
   "metadata": {
    "collapsed": false
   },
   "outputs": [],
   "source": [
    "# Euler's formula\n",
    "from math import e, pi\n",
    "plot([e**(t*2*pi*1j/20) for t in range(20)])"
   ]
  },
  {
   "cell_type": "code",
   "execution_count": 19,
   "metadata": {
    "collapsed": false
   },
   "outputs": [],
   "source": [
    "# Rotating by pi/4\n",
    "from math import e, pi\n",
    "plot({z*e**(-pi*1j/4) for z in L})\n",
    "plot({z*e**(-pi*1j/4) for z in M}, max(r,c), 1)"
   ]
  },
  {
   "cell_type": "markdown",
   "metadata": {},
   "source": [
    "# GF(2)\n",
    "Galois Field 2, + mod 2"
   ]
  },
  {
   "cell_type": "code",
   "execution_count": 22,
   "metadata": {
    "collapsed": false
   },
   "outputs": [
    {
     "name": "stdout",
     "output_type": "stream",
     "text": [
      "0\n"
     ]
    }
   ],
   "source": [
    "def encrypt(p,k): \n",
    "    \"\"\"Return cypher text based on input p (plaintext) and k(secret key).\n",
    "    Assume Alice and Bob agree on secret key k beforehand.\"\"\"\n",
    "    return p+k\n",
    "\n",
    "from GF2 import one\n",
    "k = one\n",
    "p = one\n",
    "c = encrypt(p, k)\n",
    "print(c)"
   ]
  }
 ],
 "metadata": {
  "kernelspec": {
   "display_name": "Python 3",
   "language": "python",
   "name": "python3"
  },
  "language_info": {
   "codemirror_mode": {
    "name": "ipython",
    "version": 3
   },
   "file_extension": ".py",
   "mimetype": "text/x-python",
   "name": "python",
   "nbconvert_exporter": "python",
   "pygments_lexer": "ipython3",
   "version": "3.5.1"
  }
 },
 "nbformat": 4,
 "nbformat_minor": 0
}
