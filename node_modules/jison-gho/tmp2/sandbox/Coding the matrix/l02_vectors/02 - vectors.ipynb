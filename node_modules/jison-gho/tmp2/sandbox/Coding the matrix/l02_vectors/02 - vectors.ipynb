{
 "cells": [
  {
   "cell_type": "code",
   "execution_count": null,
   "metadata": {
    "collapsed": true
   },
   "outputs": [],
   "source": [
    "# Import context\n",
    "import sys\n",
    "import os\n",
    "sys.path.insert(0, os.path.abspath('..\\\\matlib'))\n",
    "sys.path.append('..')  # Add parent directory (root)"
   ]
  },
  {
   "cell_type": "markdown",
   "metadata": {},
   "source": [
    "# Vectors"
   ]
  },
  {
   "cell_type": "code",
   "execution_count": 2,
   "metadata": {
    "collapsed": false
   },
   "outputs": [
    {
     "data": {
      "text/plain": [
       "[0, 2, 4]"
      ]
     },
     "execution_count": 2,
     "metadata": {},
     "output_type": "execute_result"
    }
   ],
   "source": [
    "# sum of two vectors\n",
    "def addn(v,w): return [v[i]+w[i] for i in range(len(w))]\n",
    "addn([0,1,2], [0,1,2])"
   ]
  },
  {
   "cell_type": "code",
   "execution_count": 3,
   "metadata": {
    "collapsed": false
   },
   "outputs": [
    {
     "data": {
      "text/plain": [
       "[0, 2]"
      ]
     },
     "execution_count": 3,
     "metadata": {},
     "output_type": "execute_result"
    }
   ],
   "source": [
    "# product of alpha and a vector\n",
    "def scalar_vector_mult(alpha, v): return [alpha*v[i] for i in range(len(v))]\n",
    "scalar_vector_mult(2,[0,1])"
   ]
  },
  {
   "cell_type": "code",
   "execution_count": 4,
   "metadata": {
    "collapsed": false
   },
   "outputs": [
    {
     "name": "stdout",
     "output_type": "stream",
     "text": [
      "c:\\code\\sandbox\\anaconda\n"
     ]
    }
   ],
   "source": [
    "%cd ..\n",
    "from plotting import plot\n",
    "v = [3,2]\n",
    "plot([scalar_vector_mult(i/10, v) for i in range(-10, 11)], 5) #symmetric"
   ]
  },
  {
   "cell_type": "code",
   "execution_count": 5,
   "metadata": {
    "collapsed": true
   },
   "outputs": [],
   "source": [
    "class Vec:\n",
    "    def __init__(self, labels, function):\n",
    "        self.D = labels    #set\n",
    "        self.f = function  #represented as dict\n",
    "        \n",
    "    def setitem(self, d, val):\n",
    "        f[d] = val\n",
    "    \n",
    "    def getitem(self, d): \n",
    "        return self.f[d] if d in self.f else 0.0"
   ]
  },
  {
   "cell_type": "code",
   "execution_count": 7,
   "metadata": {
    "collapsed": false
   },
   "outputs": [
    {
     "name": "stdout",
     "output_type": "stream",
     "text": [
      "1.0\n",
      "1.0\n",
      "0.0\n"
     ]
    }
   ],
   "source": [
    "v = Vec({'A','B','C'},{'A':1.0})\n",
    "for d in v.D:\n",
    "    if d in v.f:\n",
    "        print(v.f[d])\n",
    "\n",
    "print(v.getitem('A'))\n",
    "print(v.getitem('B'))"
   ]
  },
  {
   "cell_type": "code",
   "execution_count": 8,
   "metadata": {
    "collapsed": false
   },
   "outputs": [
    {
     "name": "stdout",
     "output_type": "stream",
     "text": [
      "{'C', 'B'}\n"
     ]
    }
   ],
   "source": [
    "def no_mapping(v): return v.D-v.f.keys()\n",
    "D0 = no_mapping(v)\n",
    "print(D0)"
   ]
  },
  {
   "cell_type": "code",
   "execution_count": 15,
   "metadata": {
    "collapsed": false
   },
   "outputs": [
    {
     "name": "stdout",
     "output_type": "stream",
     "text": [
      "{0, 1} {}\n"
     ]
    }
   ],
   "source": [
    "# Zero-vector\n",
    "def zero_vec(D): \n",
    "    return Vec(D,{})\n",
    "v0 = zero_vec({0,1})\n",
    "print(v0.D, v0.f)"
   ]
  },
  {
   "cell_type": "markdown",
   "metadata": {},
   "source": [
    "# Implementing full-fledged Vectors class"
   ]
  },
  {
   "cell_type": "code",
   "execution_count": 3,
   "metadata": {
    "collapsed": false
   },
   "outputs": [],
   "source": [
    "# Loading from custom path in Python 3.4+:\n",
    "# from importlib.util import *\n",
    "# spec = spec_from_file_location(\"vec\", \"vec_solution/vec.py\")\n",
    "# foo = module_from_spec(spec)\n",
    "# spec.loader.exec_module(foo)\n",
    "\n",
    "# Running all the unit-tests at once\n",
    "!python -m doctest test_vec.py"
   ]
  },
  {
   "cell_type": "code",
   "execution_count": 2,
   "metadata": {
    "collapsed": false
   },
   "outputs": [],
   "source": [
    "from vec import Vec\n",
    "v = Vec({'a','b','c', 'd'},{'a':2,'c':1,'d':3})\n",
    "# TODO: play with implemented code here"
   ]
  },
  {
   "cell_type": "code",
   "execution_count": 12,
   "metadata": {
    "collapsed": true
   },
   "outputs": [],
   "source": [
    "def list2vec(L):\n",
    "    return Vec(set(range(len(L))), {d: val for d, val in enumerate(L)})"
   ]
  },
  {
   "cell_type": "code",
   "execution_count": 14,
   "metadata": {
    "collapsed": false
   },
   "outputs": [
    {
     "name": "stdout",
     "output_type": "stream",
     "text": [
      "{0, 1, 2} {0: 5, 1: 2, 2: 3}\n"
     ]
    }
   ],
   "source": [
    "res = list2vec([5, 2, 3])\n",
    "print(res.D, res.f)"
   ]
  },
  {
   "cell_type": "code",
   "execution_count": 20,
   "metadata": {
    "collapsed": false
   },
   "outputs": [
    {
     "data": {
      "text/plain": [
       "11"
      ]
     },
     "execution_count": 20,
     "metadata": {},
     "output_type": "execute_result"
    }
   ],
   "source": [
    "# Quiz: Dot-product\n",
    "def list_dot(u, v):\n",
    "    return sum([ui*vi for ui, vi in zip(u,v)])\n",
    "\n",
    "list_dot([1,2,3],[0,1,3])"
   ]
  },
  {
   "cell_type": "code",
   "execution_count": 21,
   "metadata": {
    "collapsed": true
   },
   "outputs": [],
   "source": [
    "# Solving triangular system of equations\n",
    "# rowlist is list of lists\n",
    "def triangular_solve(rowlist, b):\n",
    "    x = zero_vec(rowlist[0].D)\n",
    "    for i in reversed(range(len(rowlist))):\n",
    "        x[i] = (b[i] - rowlist[i]*x)/rowlist[i][i]\n",
    "    return x\n",
    "\n",
    "# rowlist is list of vectors with custom D labels\n",
    "# for arbitrary domains, specify an ordering for which the system is triangular\n",
    "def triangular_solve(rowlist, label_list, b):\n",
    "    x = zero_vec(set(label_list))\n",
    "    for r in reversed(range(len(rowlist))):\n",
    "        c = label_list[r]\n",
    "        x[c] = (b[r] - rowlist[r]*x)/rowlist[r][c]\n",
    "    return x"
   ]
  }
 ],
 "metadata": {
  "kernelspec": {
   "display_name": "Python 3",
   "language": "python",
   "name": "python3"
  },
  "language_info": {
   "codemirror_mode": {
    "name": "ipython",
    "version": 3
   },
   "file_extension": ".py",
   "mimetype": "text/x-python",
   "name": "python",
   "nbconvert_exporter": "python",
   "pygments_lexer": "ipython3",
   "version": "3.5.1"
  }
 },
 "nbformat": 4,
 "nbformat_minor": 0
}
