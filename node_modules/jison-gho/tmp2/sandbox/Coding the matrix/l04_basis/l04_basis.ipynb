{
 "cells": [
  {
   "cell_type": "code",
   "execution_count": 1,
   "metadata": {
    "collapsed": true
   },
   "outputs": [],
   "source": [
    "import sys\n",
    "sys.path.append('..\\\\matlib')"
   ]
  },
  {
   "cell_type": "code",
   "execution_count": 10,
   "metadata": {
    "collapsed": false
   },
   "outputs": [
    {
     "name": "stdout",
     "output_type": "stream",
     "text": [
      "\n",
      "    0    1 2\n",
      "------------\n",
      " 62.5 62.5 1\n"
     ]
    }
   ],
   "source": [
    "# Perspective rendering in camera basis\n",
    "from vecutil import list2vec\n",
    "from plotting import plot\n",
    "from basutil import rep2vec, vec2rep\n",
    "\n",
    "a1 = list2vec([1/100, 0, 0]) # width of 1 pixel in x\n",
    "a2 = list2vec([0, 1/100, 0])\n",
    "a3 = list2vec([-1/2, -1/2, 1]) # image plane has size 1x1 and is at z=1\n",
    "camera_basis = [a1, a2, a3]\n",
    "\n",
    "# Single point\n",
    "pt = list2vec([1, 1, 8])\n",
    "coordinate_rep = vec2rep(camera_basis, pt)\n",
    "print(coordinate_rep / coordinate_rep[2]) # location in sensor array\n",
    "# plot([(62.5,62.5)], 80)"
   ]
  },
  {
   "cell_type": "code",
   "execution_count": 16,
   "metadata": {
    "collapsed": false
   },
   "outputs": [],
   "source": [
    "# Whole wireframe\n",
    "def line_segment(pt1, pt2, samples=100):\n",
    "    return [(i/samples)*pt1+(1-i/samples)*pt2 for i in range(samples+1)]\n",
    "corners = [list2vec([1,1,8]) + list2vec(v) for v in \n",
    "           [[0,0,0],[0,0,1],[0,1,0],[0,1,1],[1,0,0],[1,0,1],[1,1,0],[1,1,1]]]\n",
    "line_segments = [line_segment(corners[i],corners[j]) \n",
    "                 for i in range(8) for j in range(8) \n",
    "                 if sum([abs(corners[i][k]-corners[j][k]) for k in range(3)])==1]\n",
    "\n",
    "pts = sum(line_segments, [])  # put together all the lists\n",
    "reps = [vec2rep(camera_basis, v) for v in pts]\n",
    "\n",
    "def scale_down(u): return list2vec([u[0]/u[2], u[1]/u[2], 1])\n",
    "in_camera_plane = [scale_down(u) for u in reps]\n",
    "\n",
    "def pixel(u): return (u[0], u[1])\n",
    "pixels = [pixel(u) for u in in_camera_plane]\n",
    "plot(pixels, 80, 1)"
   ]
  },
  {
   "cell_type": "code",
   "execution_count": 17,
   "metadata": {
    "collapsed": false
   },
   "outputs": [
    {
     "ename": "ImportError",
     "evalue": "No module named 'inverse'",
     "output_type": "error",
     "traceback": [
      "\u001b[1;31m---------------------------------------------------------------------------\u001b[0m",
      "\u001b[1;31mImportError\u001b[0m                               Traceback (most recent call last)",
      "\u001b[1;32m<ipython-input-17-7a9496d92978>\u001b[0m in \u001b[0;36m<module>\u001b[1;34m()\u001b[0m\n\u001b[1;32m----> 1\u001b[1;33m \u001b[1;32mimport\u001b[0m \u001b[0minverse\u001b[0m\u001b[1;33m\u001b[0m\u001b[0m\n\u001b[0m\u001b[0;32m      2\u001b[0m \u001b[0mB\u001b[0m \u001b[1;33m=\u001b[0m \u001b[0minverse\u001b[0m\u001b[1;33m.\u001b[0m\u001b[0mfind_matrix_inverse\u001b[0m\u001b[1;33m(\u001b[0m\u001b[0mcoldict2mat\u001b[0m\u001b[1;33m(\u001b[0m\u001b[0mcamera_basis\u001b[0m\u001b[1;33m)\u001b[0m\u001b[1;33m,\u001b[0m\u001b[1;36m1\u001b[0m\u001b[1;33m)\u001b[0m\u001b[1;33m\u001b[0m\u001b[0m\n\u001b[0;32m      3\u001b[0m     \u001b[1;31m# inverse of A - camera basis\u001b[0m\u001b[1;33m\u001b[0m\u001b[1;33m\u001b[0m\u001b[0m\n\u001b[0;32m      4\u001b[0m \u001b[0mprint\u001b[0m\u001b[1;33m(\u001b[0m\u001b[0mB\u001b[0m\u001b[1;33m)\u001b[0m\u001b[1;33m\u001b[0m\u001b[0m\n\u001b[0;32m      5\u001b[0m \u001b[1;33m\u001b[0m\u001b[0m\n",
      "\u001b[1;31mImportError\u001b[0m: No module named 'inverse'"
     ]
    }
   ],
   "source": [
    "import inverse\n",
    "B = inverse.find_matrix_inverse(coldict2mat(camera_basis),1) \n",
    "    # inverse of A - camera basis\n",
    "print(B)\n",
    "\n",
    "X = B*coldict2mat(pts) # get camera coordinates frmo world coordinates"
   ]
  },
  {
   "cell_type": "code",
   "execution_count": 2,
   "metadata": {
    "collapsed": false
   },
   "outputs": [
    {
     "name": "stdout",
     "output_type": "stream",
     "text": [
      "{'x1', 'x2', 'x3'}\n",
      "Hit Enter once the image is displayed.... \n"
     ]
    }
   ],
   "source": [
    "# Geometry lab\n",
    "from image_mat_util import file2mat, mat2display\n",
    "locationM, colorM = file2mat('cit.png', ('x1','x2','x3'))  # get generalized image\n",
    "print(locationM.D[0])\n",
    "mat2display(locationM, colorM, ('x1','x2','x3'), scale=2)  # render"
   ]
  },
  {
   "cell_type": "code",
   "execution_count": 5,
   "metadata": {
    "collapsed": false
   },
   "outputs": [
    {
     "name": "stdout",
     "output_type": "stream",
     "text": [
      "\n",
      "        (0, 1) (2, 3)\n",
      "      ---------------\n",
      " x1  |       2      4\n",
      " x2  |       4     25\n",
      " x3  |       8      2\n",
      "\n",
      "\n",
      "           (0, 1)   (2, 3)\n",
      "      --------------------\n",
      " y1  |  -2.88E+03     -714\n",
      " y2  |        882      237\n",
      " y3  |   5.35E+03 1.34E+03\n",
      "\n",
      "\n",
      "        (0, 1) (2, 3)\n",
      "      ---------------\n",
      " y1  |  -0.537 -0.535\n",
      " y2  |   0.165  0.177\n",
      " y3  |       1      1\n",
      "\n"
     ]
    }
   ],
   "source": [
    "# Perspective lab\n",
    "from perspective_lab import *\n",
    "Y_in = Mat(({'x1', 'x2', 'x3'}, {(0,1),(2,3)}), {('x1',(0,1)):2, ('x2',(0,1)):4, ('x3',(0,1)):8, ('x1',(2,3)):4, ('x2',(2,3)):25, ('x3',(2,3)):2})\n",
    "print(Y_in)\n",
    "Y_pts = H*Y_in\n",
    "print(Y_pts)\n",
    "Y_board = mat_move2board(Y_pts)\n",
    "print(Y_board)  # check labels"
   ]
  },
  {
   "cell_type": "code",
   "execution_count": 6,
   "metadata": {
    "collapsed": false
   },
   "outputs": [
    {
     "name": "stdout",
     "output_type": "stream",
     "text": [
      "Hit Enter once the image is displayed.... \n"
     ]
    }
   ],
   "source": [
    "from perspective_lab import *\n",
    "from image_mat_util import file2mat, mat2display\n",
    "try:\n",
    "    (X_pts, colors) = file2mat('board.png', ('x1','x2','x3'))  # location matrix in camera coord x1, x2, x3\n",
    "except FileNotFoundError:\n",
    "    (X_pts, colors) = file2mat('l04_basis\\\\board.png', ('x1','x2','x3'))\n",
    "    \n",
    "Y_pts = H * X_pts  # get board coordinates y1, y2, y3 (change of basis)\n",
    "Y_board = mat_move2board(Y_pts)\n",
    "# print(Y_board.D[0])\n",
    "# print(Y_board.D[0])\n",
    "mat2display(Y_board, colors, ('y1','y2','y3'), scale=100, xmin=None, ymin=None)"
   ]
  }
 ],
 "metadata": {
  "kernelspec": {
   "display_name": "Python 3.4",
   "language": "python",
   "name": "python 3.4"
  },
  "language_info": {
   "codemirror_mode": {
    "name": "ipython",
    "version": 3
   },
   "file_extension": ".py",
   "mimetype": "text/x-python",
   "name": "python",
   "nbconvert_exporter": "python",
   "pygments_lexer": "ipython3",
   "version": "3.4.4"
  }
 },
 "nbformat": 4,
 "nbformat_minor": 0
}
