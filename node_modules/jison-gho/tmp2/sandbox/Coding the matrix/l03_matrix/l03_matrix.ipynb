{
 "cells": [
  {
   "cell_type": "code",
   "execution_count": 2,
   "metadata": {
    "collapsed": false
   },
   "outputs": [
    {
     "name": "stdout",
     "output_type": "stream",
     "text": [
      "b'\\xee\\x0c\\r\\n'\n",
      "True\n"
     ]
    }
   ],
   "source": [
    "# Import context\n",
    "import sys\n",
    "import os\n",
    "sys.path.insert(0, os.path.abspath('..\\\\matlib'))\n",
    "sys.path.append('..')  # Add parent directory (root)\n",
    "\n",
    "from vec import Vec\n",
    "# from mat import Mat\n",
    "\n",
    "# Check Python version (critical for solver.py)\n",
    "import imp\n",
    "sys.path\n",
    "print(imp.get_magic())\n",
    "print(imp.get_magic()==b'\\xee\\x0c\\r\\n')  # should be true"
   ]
  },
  {
   "cell_type": "code",
   "execution_count": 2,
   "metadata": {
    "collapsed": false
   },
   "outputs": [
    {
     "data": {
      "text/plain": [
       "[[0, 0, 0, 0], [0, 0, 0, 0], [0, 0, 0, 0]]"
      ]
     },
     "execution_count": 2,
     "metadata": {},
     "output_type": "execute_result"
    }
   ],
   "source": [
    "# nested comprehension for list-of-row-list representation\n",
    "# of 3x4 matrix all of whose elements are zero\n",
    "[[0 for _ in range(4)] for _ in range(3)]"
   ]
  },
  {
   "cell_type": "code",
   "execution_count": 2,
   "metadata": {
    "collapsed": false
   },
   "outputs": [
    {
     "data": {
      "text/plain": [
       "{'#': Vec({'a', 'b'},{'a': 2, 'b': 20}),\n",
       " '?': Vec({'a', 'b'},{'a': 3, 'b': 30}),\n",
       " '@': Vec({'a', 'b'},{'a': 1, 'b': 10})}"
      ]
     },
     "execution_count": 2,
     "metadata": {},
     "output_type": "execute_result"
    }
   ],
   "source": [
    "class Mat:\n",
    "    def __init__(self, labels, function):\n",
    "        self.D = labels\n",
    "        self.f = function\n",
    "\n",
    "# Identity matrix\n",
    "def identity(D): return Mat((D,D), {(k,k):1 for k in D})\n",
    "\n",
    "\"\"\"\n",
    "matrix = [ [1, 2, 3], [10, 20, 30] ]\n",
    "\n",
    "row-labels -> matrix.D[0]: 'a', 'b'\n",
    "col-labels -> matrix.D[1]: '@', '#', '?'\n",
    "\"\"\"\n",
    "\n",
    "matrix = Mat( ({'a','b'}, {'@', '#', '?'}), {('a','@'):1, ('a','#'):2, ('a','?'):3, ('b','@'):10, ('b','#'):20, ('b','?'):30} )\n",
    "\n",
    "# row to column dictionary conversion\n",
    "def mat2coldict(A):\n",
    "    return {c: Vec(A.D[0], {r:A.f[r,c] for r in A.D[0]}) for c in A.D[1]}\n",
    "\n",
    "mat2coldict(matrix)"
   ]
  },
  {
   "cell_type": "code",
   "execution_count": 31,
   "metadata": {
    "collapsed": false
   },
   "outputs": [
    {
     "name": "stdout",
     "output_type": "stream",
     "text": [
      "**********************************************************************\n",
      "File \"c:\\code\\sandbox\\anaconda\\Coding the matrix\\l03_matrix\\mat.py\", line 65, in mat.Mat.__eq__\n",
      "Failed example:\n",
      "    C == A\n",
      "Exception raised:\n",
      "    Traceback (most recent call last):\n",
      "      File \"C:\\Anaconda3\\lib\\doctest.py\", line 1320, in __run\n",
      "        compileflags, 1), test.globs)\n",
      "      File \"<doctest mat.Mat.__eq__[7]>\", line 1, in <module>\n",
      "        C == A\n",
      "      File \"c:\\code\\sandbox\\anaconda\\Coding the matrix\\l03_matrix\\mat.py\", line 74, in equal\n",
      "        if A[i] != B[i]:\n",
      "      File \"c:\\code\\sandbox\\anaconda\\Coding the matrix\\l03_matrix\\mat.py\", line 36, in getitem\n",
      "        assert k[0] in M.D[0] and k[1] in M.D[1]\n",
      "    AssertionError\n",
      "**********************************************************************\n",
      "1 items had failures:\n",
      "   1 of   9 in mat.Mat.__eq__\n",
      "***Test Failed*** 1 failures.\n"
     ]
    }
   ],
   "source": [
    "!python -m doctest mat.py\n",
    "# !python -m doctest mat_sparsity.py"
   ]
  },
  {
   "cell_type": "code",
   "execution_count": 2,
   "metadata": {
    "collapsed": false
   },
   "outputs": [
    {
     "name": "stdout",
     "output_type": "stream",
     "text": [
      "\n",
      " (0, 0) (0, 1) (1, 0) (1, 1)\n",
      "----------------------------\n",
      "    one      0    one      0\n"
     ]
    },
    {
     "ename": "SystemError",
     "evalue": "Parent module '' not loaded, cannot perform relative import",
     "output_type": "error",
     "traceback": [
      "\u001b[1;31m---------------------------------------------------------------------------\u001b[0m",
      "\u001b[1;31mSystemError\u001b[0m                               Traceback (most recent call last)",
      "\u001b[1;32m<ipython-input-2-b744602d9dac>\u001b[0m in \u001b[0;36m<module>\u001b[1;34m()\u001b[0m\n\u001b[0;32m     15\u001b[0m \u001b[0mprint\u001b[0m\u001b[1;33m(\u001b[0m\u001b[0mb\u001b[0m\u001b[1;33m)\u001b[0m\u001b[1;33m\u001b[0m\u001b[0m\n\u001b[0;32m     16\u001b[0m \u001b[1;33m\u001b[0m\u001b[0m\n\u001b[1;32m---> 17\u001b[1;33m \u001b[1;32mfrom\u001b[0m \u001b[0mmatutil\u001b[0m \u001b[1;32mimport\u001b[0m \u001b[0mcoldict2mat\u001b[0m\u001b[1;33m\u001b[0m\u001b[0m\n\u001b[0m\u001b[0;32m     18\u001b[0m \u001b[0mA\u001b[0m \u001b[1;33m=\u001b[0m \u001b[0mcoldict2mat\u001b[0m\u001b[1;33m(\u001b[0m\u001b[1;33m{\u001b[0m\u001b[1;33m(\u001b[0m\u001b[1;36m0\u001b[0m\u001b[1;33m,\u001b[0m\u001b[1;36m0\u001b[0m\u001b[1;33m)\u001b[0m\u001b[1;33m:\u001b[0m\u001b[0mb00\u001b[0m\u001b[1;33m,\u001b[0m \u001b[1;33m(\u001b[0m\u001b[1;36m0\u001b[0m\u001b[1;33m,\u001b[0m\u001b[1;36m1\u001b[0m\u001b[1;33m)\u001b[0m\u001b[1;33m:\u001b[0m\u001b[0mb01\u001b[0m\u001b[1;33m,\u001b[0m \u001b[1;33m(\u001b[0m\u001b[1;36m1\u001b[0m\u001b[1;33m,\u001b[0m\u001b[1;36m0\u001b[0m\u001b[1;33m)\u001b[0m\u001b[1;33m:\u001b[0m\u001b[0mb10\u001b[0m\u001b[1;33m,\u001b[0m \u001b[1;33m(\u001b[0m\u001b[1;36m1\u001b[0m\u001b[1;33m,\u001b[0m\u001b[1;36m1\u001b[0m\u001b[1;33m)\u001b[0m\u001b[1;33m:\u001b[0m\u001b[0mb11\u001b[0m\u001b[1;33m}\u001b[0m\u001b[1;33m)\u001b[0m\u001b[1;33m\u001b[0m\u001b[0m\n\u001b[0;32m     19\u001b[0m \u001b[0mprint\u001b[0m\u001b[1;33m(\u001b[0m\u001b[0mA\u001b[0m\u001b[1;33m)\u001b[0m\u001b[1;33m\u001b[0m\u001b[0m\n",
      "\u001b[1;32mc:\\code\\sandbox\\anaconda\\Coding the matrix\\matlib\\matutil.py\u001b[0m in \u001b[0;36m<module>\u001b[1;34m()\u001b[0m\n\u001b[0;32m      2\u001b[0m \u001b[1;32mimport\u001b[0m \u001b[0msys\u001b[0m\u001b[1;33m\u001b[0m\u001b[0m\n\u001b[0;32m      3\u001b[0m \u001b[0msys\u001b[0m\u001b[1;33m.\u001b[0m\u001b[0mpath\u001b[0m\u001b[1;33m.\u001b[0m\u001b[0mappend\u001b[0m\u001b[1;33m(\u001b[0m\u001b[1;34m'.'\u001b[0m\u001b[1;33m)\u001b[0m  \u001b[1;31m# for compatibility with running from console\u001b[0m\u001b[1;33m\u001b[0m\u001b[0m\n\u001b[1;32m----> 4\u001b[1;33m \u001b[1;32mfrom\u001b[0m \u001b[1;33m.\u001b[0m\u001b[0mvec\u001b[0m \u001b[1;32mimport\u001b[0m \u001b[0mVec\u001b[0m\u001b[1;33m\u001b[0m\u001b[0m\n\u001b[0m\u001b[0;32m      5\u001b[0m \u001b[1;32mfrom\u001b[0m \u001b[1;33m.\u001b[0m\u001b[0mmat\u001b[0m \u001b[1;32mimport\u001b[0m \u001b[0mMat\u001b[0m\u001b[1;33m\u001b[0m\u001b[0m\n\u001b[0;32m      6\u001b[0m \u001b[1;33m\u001b[0m\u001b[0m\n",
      "\u001b[1;31mSystemError\u001b[0m: Parent module '' not loaded, cannot perform relative import"
     ]
    }
   ],
   "source": [
    "# Solving Lights Out\n",
    "from GF2 import zero, one\n",
    "\n",
    "n = 2\n",
    "D = {(i,j) for i in range(n) for j in range(n)}\n",
    "\n",
    "# Button vectors\n",
    "b00 = Vec(D, {(0,0):one, (0,1):one, (1,0):one})\n",
    "b01 = Vec(D, {(0,0):one, (0,1):one, (1,1):one})\n",
    "b10 = Vec(D, {(0,0):one, (1,0):one, (1,1):one})\n",
    "b11 = Vec(D, {(0,1):one, (1,0):one, (1,1):one})\n",
    "\n",
    "# Initial position (lights in)\n",
    "b = Vec(D, {(0,0):one, (1,0):one})\n",
    "print(b)\n",
    "\n",
    "from matutil import coldict2mat\n",
    "A = coldict2mat({(0,0):b00, (0,1):b01, (1,0):b10, (1,1):b11})\n",
    "print(A)\n",
    "\n",
    "from solver import solve\n",
    "x = solve(A, b)\n",
    "print(x)\n",
    "A*x == b"
   ]
  },
  {
   "cell_type": "code",
   "execution_count": 21,
   "metadata": {
    "collapsed": false
   },
   "outputs": [
    {
     "name": "stdout",
     "output_type": "stream",
     "text": [
      "\n",
      "    0   1\n",
      "---------\n",
      " -0.5 0.5\n"
     ]
    },
    {
     "data": {
      "text/plain": [
       "Vec({0, 1},{0: -4.440892098500626e-16, 1: -8.881784197001252e-16})"
      ]
     },
     "execution_count": 21,
     "metadata": {},
     "output_type": "execute_result"
    }
   ],
   "source": [
    "from matutil import listlist2mat\n",
    "A = listlist2mat([[1,3],[5,7]])\n",
    "b = Vec({0,1}, {0:1, 1:1})\n",
    "u = solve(A, b)\n",
    "print(u)\n",
    "b - A*u  # if the residual is small => success"
   ]
  },
  {
   "cell_type": "code",
   "execution_count": 24,
   "metadata": {
    "collapsed": false
   },
   "outputs": [
    {
     "name": "stdout",
     "output_type": "stream",
     "text": [
      "\n",
      "    gnome hoop putty shooter slinky\n",
      "-----------------------------------\n",
      " 1.41E+03    0     0       0      0\n",
      "\n",
      " concrete electricity metal plastic    water\n",
      "--------------------------------------------\n",
      " 1.84E+03         566     0     283 1.13E+03\n",
      "1333583.5733695652\n"
     ]
    }
   ],
   "source": [
    "# Resource consumption (espionage) problem\n",
    "from mat import Mat\n",
    "col_labels={'metal','concrete','plastic','water','electricity'}\n",
    "row_labels={'gnome','hoop','slinky','putty','shooter'}\n",
    "M = Mat((row_labels,col_labels),\n",
    "        {('gnome','concrete'):1.3,\n",
    "         ('gnome','plastic'):.2,\n",
    "         ('gnome','water'):.8,\n",
    "         ('gnome','electricity'):.4})\n",
    "#etc.\n",
    "\n",
    "# Observed resource utilization\n",
    "b = Vec(col_labels, {'electricity':1409.5, 'water':1485.0, \n",
    "                     'concrete':1300.0, 'metal':226.25,\n",
    "                     'plastic':677.0})\n",
    "u = solve(M.transpose(), b)\n",
    "print(u)\n",
    "print(u*M)  # check that solution makes sense\n",
    "res = b-u*M\n",
    "print(res*res)"
   ]
  },
  {
   "cell_type": "code",
   "execution_count": 17,
   "metadata": {
    "collapsed": false
   },
   "outputs": [
    {
     "name": "stdout",
     "output_type": "stream",
     "text": [
      "0.24287856071964012\n"
     ]
    }
   ],
   "source": [
    "# For some matrix-vector equations, there is no solution\n",
    "# For these, the res(idual) will not be so small\n",
    "from vecutil import list2vec\n",
    "A = listlist2mat([[1,2], [4,5], [-6,1]])\n",
    "b = list2vec([1,1,1])\n",
    "u = solve(A, b) \n",
    "    # Computes the solution with res as small as possible\n",
    "res = b-A*u\n",
    "print(res*res)"
   ]
  },
  {
   "cell_type": "code",
   "execution_count": 28,
   "metadata": {
    "collapsed": false
   },
   "outputs": [
    {
     "name": "stdout",
     "output_type": "stream",
     "text": [
      "\n",
      "       CPU memory radio sensor\n",
      "     -------------------------\n",
      " 1  |  0.3      0   0.1      0\n",
      " 2  |  0.4      0     0    0.2\n",
      " 3  |  0.1    0.3     0      0\n",
      " 4  |  0.4    0.5     0      0\n",
      "\n",
      "\n",
      " CPU memory radio sensor\n",
      "------------------------\n",
      " 300    100   500    250\n",
      "1.0097419586828951e-27\n"
     ]
    }
   ],
   "source": [
    "# Sensor node problem\n",
    "D = {'radio', 'sensor', 'memory', 'CPU'}\n",
    "duration1 = Vec(D, {'radio':.1, 'CPU':.3})\n",
    "duration2 = Vec(D, {'sensor':.2, 'CPU':.4})\n",
    "duration3 = Vec(D, {'memory':.3, 'CPU':.1})\n",
    "duration4 = Vec(D, {'memory':.5, 'CPU':.4})\n",
    "\n",
    "from matutil import rowdict2mat\n",
    "A = rowdict2mat({1:duration1, 2:duration2, 3:duration3, 4:duration4})\n",
    "print(A)\n",
    "b = Vec({1, 2, 3, 4},{1: 140.0, 2: 170.0, 3: 60.0, 4: 170.0})\n",
    "rate = solve(A,b)\n",
    "print(rate)\n",
    "res = b - A*rate\n",
    "print(res*res)  # note: not necessarily the only solution"
   ]
  },
  {
   "cell_type": "code",
   "execution_count": 18,
   "metadata": {
    "collapsed": false
   },
   "outputs": [
    {
     "name": "stdout",
     "output_type": "stream",
     "text": [
      "\n",
      "     0 1\n",
      "--------\n",
      " 1E-20 0\n",
      "1.0\n"
     ]
    }
   ],
   "source": [
    "# Some matrix-vector equations are ill-conditioned, which\n",
    "# can prevent an algorithm using floats from getting\n",
    "# even approx. solutions, even if solution exists!\n",
    "A = listlist2mat([[1e20,1],[1,0]])\n",
    "b = list2vec([1,1])\n",
    "u = solve(A, b)\n",
    "print(u)\n",
    "res = b - A*u\n",
    "print(res*res)"
   ]
  },
  {
   "cell_type": "code",
   "execution_count": 3,
   "metadata": {
    "collapsed": false
   },
   "outputs": [
    {
     "name": "stdout",
     "output_type": "stream",
     "text": [
      "{'x1', 'x3', 'x2'}\n",
      "Hit Enter once the image is displayed.... \n"
     ]
    }
   ],
   "source": [
    "# Geometry lab\n",
    "from image_mat_util import file2mat, mat2display\n",
    "locationM, colorM = file2mat('cit.png', ('x1','x2','x3'))  # get generalized image\n",
    "print(locationM.D[0])\n",
    "mat2display(locationM, colorM, ('x1','x2','x3'))  # render"
   ]
  }
 ],
 "metadata": {
  "kernelspec": {
   "display_name": "Python 3.4",
   "language": "python",
   "name": "python 3.4"
  },
  "language_info": {
   "codemirror_mode": {
    "name": "ipython",
    "version": 3
   },
   "file_extension": ".py",
   "mimetype": "text/x-python",
   "name": "python",
   "nbconvert_exporter": "python",
   "pygments_lexer": "ipython3",
   "version": "3.4.4"
  }
 },
 "nbformat": 4,
 "nbformat_minor": 0
}
