{
 "cells": [
  {
   "cell_type": "markdown",
   "metadata": {},
   "source": [
    "# Comprehensions\n",
    "Comprehensions are a way of creating iterable data structures.\n",
    "\n",
    "Style: declarative, functional.\n",
    "\n",
    "Types of comprehensions:\n",
    "* list:    `[expr(item) for item in iterable]`\n",
    "* set:    `{expr(item) for item in iterable}`\n",
    "* dict:    `{key_expr:value_expr for item in iterable}`"
   ]
  },
  {
   "cell_type": "code",
   "execution_count": 17,
   "metadata": {
    "collapsed": false
   },
   "outputs": [
    {
     "name": "stdout",
     "output_type": "stream",
     "text": [
      "[3, 9, 1, 4, 8, 2, 4, 2, 3, 10, 6, 6, 9]\n",
      "[1, 1, 1, 1, 2, 3, 3, 4, 5, 6, 7, 8, 9, 10, 11, 13, 14, 15, 16, 18] <class 'list'>\n"
     ]
    }
   ],
   "source": [
    "# List comprehensions\n",
    "words = \"Why sometimes I have believed as many \\\n",
    "        as six impossible things before breakfast\".split()\n",
    "[len(word) for word in words]\n",
    "\n",
    "# Similar to\n",
    "lengths = []\n",
    "for word in words:\n",
    "    lengths.append(len(word))\n",
    "print(lengths)\n",
    "\n",
    "# Find # of digits in factorials\n",
    "from math import factorial\n",
    "f = [len(str(factorial(x))) for x in range(20)] \n",
    "print(f, type(f))"
   ]
  },
  {
   "cell_type": "code",
   "execution_count": 18,
   "metadata": {
    "collapsed": false
   },
   "outputs": [
    {
     "data": {
      "text/plain": [
       "{1, 2, 3, 4, 5, 6, 7, 8, 9, 10, 11, 13, 14, 15, 16, 18}"
      ]
     },
     "execution_count": 18,
     "metadata": {},
     "output_type": "execute_result"
    }
   ],
   "source": [
    "# Set comprehensions\n",
    "# Eliminating duplicates\n",
    "{len(str(factorial(x))) for x in range(20)}"
   ]
  },
  {
   "cell_type": "code",
   "execution_count": 1,
   "metadata": {
    "collapsed": false
   },
   "outputs": [
    {
     "name": "stdout",
     "output_type": "stream",
     "text": [
      "{'Brazilia': 'Brazil',\n",
      " 'London': 'UK',\n",
      " 'Rabat': 'Morocco',\n",
      " 'Stockholm': 'Sweden'}\n"
     ]
    },
    {
     "data": {
      "text/plain": [
       "{'f': 'foxtrot', 'h': 'hotel'}"
      ]
     },
     "execution_count": 1,
     "metadata": {},
     "output_type": "execute_result"
    }
   ],
   "source": [
    "# Dictionary comprehensions\n",
    "from pprint import pprint as pp\n",
    "country_to_capital = {'UK': 'London',\n",
    "                      'Brazil': 'Brazilia',\n",
    "                      'Morocco': 'Rabat',\n",
    "                      \"Sweden\": 'Stockholm'}\n",
    "# Convert country-to-cap to cap-to-country\n",
    "capital_to_country = {capital: country for \n",
    "                      country, capital in country_to_capital.items()}\n",
    "pp(capital_to_country)\n",
    "\n",
    "words = [\"hi\", \"hello\", \"foxtrot\", \"hotel\"]\n",
    "# Map first letters of words to the words\n",
    "{x[0]: x for x in words} # later keys overwrite earlier keys\n",
    "# hence, only the last word is kept"
   ]
  },
  {
   "cell_type": "code",
   "execution_count": 25,
   "metadata": {
    "collapsed": false
   },
   "outputs": [
    {
     "name": "stdout",
     "output_type": "stream",
     "text": [
      "{'d:\\\\code\\\\sandbox\\\\anaconda\\\\[pluralsight] Python fundamentals\\\\exceptional.py': 1006,\n",
      " 'd:\\\\code\\\\sandbox\\\\anaconda\\\\[pluralsight] Python fundamentals\\\\roots.py': 1162,\n",
      " 'd:\\\\code\\\\sandbox\\\\anaconda\\\\[pluralsight] Python fundamentals\\\\word_list.py': 260,\n",
      " 'd:\\\\code\\\\sandbox\\\\anaconda\\\\[pluralsight] Python fundamentals\\\\words.py': 990}\n"
     ]
    }
   ],
   "source": [
    "# Do not cram too much complexity into comprehensions!\n",
    "# Better create a separate function\n",
    "import os\n",
    "import glob\n",
    "\n",
    "file_sizes = {os.path.realpath(p): os.stat(p).st_size\n",
    "              for p in glob.glob('*.py')}\n",
    "pp(file_sizes)"
   ]
  },
  {
   "cell_type": "code",
   "execution_count": 2,
   "metadata": {
    "collapsed": false
   },
   "outputs": [
    {
     "name": "stdout",
     "output_type": "stream",
     "text": [
      "[2, 3, 5, 7, 11, 13, 17, 19, 23, 29, 31, 37, 41, 43, 47, 53, 59, 61, 67, 71, 73, 79, 83, 89, 97]\n",
      "\n",
      "{4: (1, 2, 4),\n",
      " 9: (1, 3, 9),\n",
      " 25: (1, 5, 25),\n",
      " 49: (1, 7, 49),\n",
      " 121: (1, 11, 121),\n",
      " 169: (1, 13, 169),\n",
      " 289: (1, 17, 289),\n",
      " 361: (1, 19, 361),\n",
      " 529: (1, 23, 529),\n",
      " 841: (1, 29, 841),\n",
      " 961: (1, 31, 961),\n",
      " 1369: (1, 37, 1369),\n",
      " 1681: (1, 41, 1681),\n",
      " 1849: (1, 43, 1849),\n",
      " 2209: (1, 47, 2209),\n",
      " 2809: (1, 53, 2809),\n",
      " 3481: (1, 59, 3481),\n",
      " 3721: (1, 61, 3721),\n",
      " 4489: (1, 67, 4489),\n",
      " 5041: (1, 71, 5041),\n",
      " 5329: (1, 73, 5329),\n",
      " 6241: (1, 79, 6241),\n",
      " 6889: (1, 83, 6889),\n",
      " 7921: (1, 89, 7921),\n",
      " 9409: (1, 97, 9409)}\n"
     ]
    }
   ],
   "source": [
    "# Filtering predicates\n",
    "from math import sqrt\n",
    "\n",
    "def is_prime(x):\n",
    "    if x<2:\n",
    "        return False\n",
    "    for i in range(2, int(sqrt(x))+1):\n",
    "        if x%i==0:\n",
    "            return False\n",
    "    return True\n",
    "\n",
    "# Filtering clause if ...\n",
    "primes=[x for x in range(101) if is_prime(x)]\n",
    "print(primes)\n",
    "\n",
    "prime_square_divisors = {x*x:(1,x,x*x) for x in range(101) \n",
    "                         if is_prime(x)}\n",
    "print()\n",
    "pp(prime_square_divisors)"
   ]
  },
  {
   "cell_type": "markdown",
   "metadata": {},
   "source": [
    "# Iteration protocols\n",
    "* Iterable protocol: `iterator = iter(iterable)` (can be passed to the built-in `iter()` function to get an iterator object)\n",
    "* Iterator protocol: `item = next(iterator)` (can be passed to the built-in `next()` function to fetch the next item)"
   ]
  },
  {
   "cell_type": "code",
   "execution_count": 4,
   "metadata": {
    "collapsed": false
   },
   "outputs": [
    {
     "data": {
      "text/plain": [
       "'Winter'"
      ]
     },
     "execution_count": 4,
     "metadata": {},
     "output_type": "execute_result"
    }
   ],
   "source": [
    "iterable = ['Spring', 'Summer', 'Autumn', 'Winter']\n",
    "iterator=iter(iterable)\n",
    "next(iterator) # Spring\n",
    "next(iterator) # Summer\n",
    "next(iterator)\n",
    "next(iterator)\n",
    "# next(iterator) # Exception: StopIteration\n",
    "\n",
    "# What can be more exceptional than reaching the end of collection?\n",
    "# use iterable in loops: loop stops on the exception"
   ]
  },
  {
   "cell_type": "code",
   "execution_count": 5,
   "metadata": {
    "collapsed": false
   },
   "outputs": [
    {
     "name": "stdout",
     "output_type": "stream",
     "text": [
      "1st\n"
     ]
    }
   ],
   "source": [
    "def first(iterable):\n",
    "    iterator = iter(iterable)\n",
    "    try:\n",
    "        return next(iterator)\n",
    "    except StopIteration:\n",
    "        raise ValueError(\"iterable is empty\")\n",
    "        \n",
    "print(first([\"1st\",\"2nd\"]))\n",
    "# first(set())  # Throws exception"
   ]
  },
  {
   "cell_type": "markdown",
   "metadata": {},
   "source": [
    "# Generators\n",
    "* Iterators specifying *iterable sequences*\n",
    "* Lazily evaluated: the next value provided on demand\n",
    "* Can model infinite sequences (such as data streams)\n",
    "* are composable into pipelines (for natural stream processing)"
   ]
  },
  {
   "cell_type": "code",
   "execution_count": 44,
   "metadata": {
    "collapsed": false
   },
   "outputs": [
    {
     "name": "stdout",
     "output_type": "stream",
     "text": [
      "<generator object gen123 at 0x0000007C800EC4C0>\n",
      "1\n",
      "2\n",
      "3\n",
      "False False\n"
     ]
    },
    {
     "data": {
      "text/plain": [
       "1"
      ]
     },
     "execution_count": 44,
     "metadata": {},
     "output_type": "execute_result"
    }
   ],
   "source": [
    "# Generator - any function containing yield operator\n",
    "# Define generator \n",
    "def gen123():\n",
    "    yield 1\n",
    "    yield 2\n",
    "    yield 3\n",
    "    #return # implicit\n",
    "    \n",
    "# Each generator's call returns a separate iterator object \n",
    "g = gen123() # Create new iterator\n",
    "print(g)\n",
    "next(g)\n",
    "next(g)\n",
    "next(g)\n",
    "#next(g) # StopIteration\n",
    "\n",
    "for v in gen123(): # no StopIteration, because it is handled\n",
    "    print(v)\n",
    "    \n",
    "h=gen123()\n",
    "i=gen123()\n",
    "print(h is i, h==i)\n",
    "next(i)\n",
    "next(i)\n",
    "next(h)"
   ]
  },
  {
   "cell_type": "code",
   "execution_count": 7,
   "metadata": {
    "collapsed": false
   },
   "outputs": [
    {
     "name": "stdout",
     "output_type": "stream",
     "text": [
      "About to yield 2\n",
      "About to yield 4\n",
      "About to yield 6\n"
     ]
    },
    {
     "data": {
      "text/plain": [
       "6"
      ]
     },
     "execution_count": 7,
     "metadata": {},
     "output_type": "execute_result"
    }
   ],
   "source": [
    "def gen246():\n",
    "    print(\"About to yield 2\")\n",
    "    yield 2\n",
    "    print(\"About to yield 4\")\n",
    "    yield 4\n",
    "    print(\"About to yield 6\")\n",
    "    yield 6\n",
    "    print(\"About to return\")\n",
    "    \n",
    "g = gen246()\n",
    "next(g)\n",
    "next(g) #Conitnue running until next yield\n",
    "next(g)\n",
    "# next(g) #Throw StopIteration"
   ]
  },
  {
   "cell_type": "markdown",
   "metadata": {},
   "source": [
    "## Stateful generators\n",
    "See generator.py (and start debugging to look at the pipeline)\n",
    "* Maintain state in local variables\n",
    "* Generators can resume execution\n",
    "* Complex control flow\n",
    "* Lazy evaluation"
   ]
  },
  {
   "cell_type": "markdown",
   "metadata": {},
   "source": [
    "## Infinite series"
   ]
  },
  {
   "cell_type": "code",
   "execution_count": 41,
   "metadata": {
    "collapsed": false
   },
   "outputs": [
    {
     "name": "stdout",
     "output_type": "stream",
     "text": [
      "2\n",
      "1\n",
      "3\n",
      "4\n",
      "7\n",
      "11\n",
      "18\n",
      "29\n",
      "47\n",
      "76\n"
     ]
    }
   ],
   "source": [
    "# Infinite sequence\n",
    "def lucas():\n",
    "    yield 2\n",
    "    a = 2\n",
    "    b = 1\n",
    "    while True:\n",
    "        yield b\n",
    "        a, b = b, a + b # tuple unpacking\n",
    "        \n",
    "for x, i in zip(lucas(),range(10)):  # zip constructs a tuple generator\n",
    "    print(x)\n",
    "    if i==10:\n",
    "        break"
   ]
  },
  {
   "cell_type": "markdown",
   "metadata": {},
   "source": [
    "## Generator comprehensions\n",
    "`(expr(item) for item in iterable)`\n",
    "* Similar syntax to list comprehensions\n",
    "* Create a generator object\n",
    "* Lazy evaluation"
   ]
  },
  {
   "cell_type": "code",
   "execution_count": 11,
   "metadata": {
    "collapsed": false
   },
   "outputs": [
    {
     "data": {
      "text/plain": [
       "76127"
      ]
     },
     "execution_count": 11,
     "metadata": {},
     "output_type": "execute_result"
    }
   ],
   "source": [
    "million_squares = (x*x for x in range(1,100001)) # Lazy generation\n",
    "list(million_squares) # 40 MB of memory for 1M\n",
    "list(million_squares) # exhausted iterator\n",
    "\n",
    "# for function calls that accept iterators,\n",
    "# no separate parentheses are required!\n",
    "sum(x*x for x in range(1,10000001)) \n",
    "sum(x for x in range(1001) if is_prime(x)) # sum of prime integers <=1000"
   ]
  },
  {
   "cell_type": "markdown",
   "metadata": {},
   "source": [
    "## itertools module"
   ]
  },
  {
   "cell_type": "code",
   "execution_count": 12,
   "metadata": {
    "collapsed": false
   },
   "outputs": [
    {
     "name": "stdout",
     "output_type": "stream",
     "text": [
      "<itertools.islice object at 0x000001E59EDDB778>\n",
      "[2, 3, 5, 7, 11, 13, 17, 19, 23, 29, 31, 37, 41, 43, 47, 53, 59, 61, 67, 71, 73, 79, 83, 89, 97, 101, 103, 107, 109, 113, 127, 131, 137, 139, 149, 151, 157, 163, 167, 173, 179, 181, 191, 193, 197, 199, 211, 223, 227, 229, 233, 239, 241, 251, 257, 263, 269, 271, 277, 281, 283, 293, 307, 311, 313, 317, 331, 337, 347, 349, 353, 359, 367, 373, 379, 383, 389, 397, 401, 409, 419, 421, 431, 433, 439, 443, 449, 457, 461, 463, 467, 479, 487, 491, 499, 503, 509, 521, 523, 541]\n"
     ]
    },
    {
     "data": {
      "text/plain": [
       "24133"
      ]
     },
     "execution_count": 12,
     "metadata": {},
     "output_type": "execute_result"
    }
   ],
   "source": [
    "from itertools import islice, count\n",
    "\n",
    "# islice(all_primes, 1000)\n",
    "thousand_primes=islice((x for x in count() if is_prime(x)),100)\n",
    "print(thousand_primes) # returned iterator!\n",
    "print(list(thousand_primes)) # evaluate all\n",
    "sum(thousand_primes) # 0 - iterator is exhausted\n",
    "\n",
    "sum(islice((x for x in count() if is_prime(x)),100))"
   ]
  },
  {
   "cell_type": "code",
   "execution_count": 13,
   "metadata": {
    "collapsed": false
   },
   "outputs": [
    {
     "name": "stdout",
     "output_type": "stream",
     "text": [
      "False\n",
      "True\n"
     ]
    }
   ],
   "source": [
    "# any or all can be applied to any iterable series\n",
    "any([False, False, True]) # OR\n",
    "all([False, False, True]) # AND\n",
    "\n",
    "print(any(is_prime(x) for x in range(1328,1361)))\n",
    "# Check that all city names start with capitalized letter\n",
    "print(all(name==name.title() for name in ['London','New York']))"
   ]
  },
  {
   "cell_type": "code",
   "execution_count": 15,
   "metadata": {
    "collapsed": false
   },
   "outputs": [
    {
     "name": "stdout",
     "output_type": "stream",
     "text": [
      "average= 12.5\n",
      "average= 14.0\n",
      "average= 14.5\n",
      "average= 14.5\n",
      "average= 16.5\n",
      "average= 20.5\n",
      "average= 21.5\n",
      "average= 22.0\n",
      "average= 23.0\n",
      "average= 22.0\n",
      "average= 19.5\n",
      "average= 17.5\n"
     ]
    }
   ],
   "source": [
    "# temperature readings\n",
    "sunday = [12, 14, 15, 15, 17, 21, 22, 22, 23, 22, 20, 18]\n",
    "monday = [13, 14, 14, 14, 16, 20, 21, 22, 23, 22, 19, 17]\n",
    "\n",
    "# Compute average temperature\n",
    "# zip(sunday, monday) - generates tuples (pairs)\n",
    "for sun, mon in zip(sunday, monday):\n",
    "    print(\"average=\", \"{:4.1f}\".format((sun+mon)/2))"
   ]
  },
  {
   "cell_type": "code",
   "execution_count": 19,
   "metadata": {
    "collapsed": false
   },
   "outputs": [
    {
     "name": "stdout",
     "output_type": "stream",
     "text": [
      "12\n",
      "14\n"
     ]
    },
    {
     "data": {
      "text/plain": [
       "True"
      ]
     },
     "execution_count": 19,
     "metadata": {},
     "output_type": "execute_result"
    }
   ],
   "source": [
    "from itertools import chain\n",
    "# concatenate in a single list lazily (gen)\n",
    "temperatures = chain(sunday, monday)\n",
    "\n",
    "print(next(temperatures))\n",
    "print(next(temperatures))\n",
    "all(t>0 for t in temperatures)"
   ]
  },
  {
   "cell_type": "code",
   "execution_count": 43,
   "metadata": {
    "collapsed": false
   },
   "outputs": [
    {
     "name": "stdout",
     "output_type": "stream",
     "text": [
      "2\n",
      "3\n",
      "7\n",
      "11\n",
      "29\n",
      "47\n",
      "199\n",
      "521\n",
      "2207\n",
      "3571\n",
      "9349\n",
      "3010349\n",
      "54018521\n",
      "370248451\n",
      "6643838879\n",
      "119218851371\n",
      "5600748293801\n",
      "688846502588399\n"
     ]
    },
    {
     "ename": "KeyboardInterrupt",
     "evalue": "",
     "output_type": "error",
     "traceback": [
      "\u001b[1;31m---------------------------------------------------------------------------\u001b[0m",
      "\u001b[1;31mKeyboardInterrupt\u001b[0m                         Traceback (most recent call last)",
      "\u001b[1;32m<ipython-input-43-850b26585746>\u001b[0m in \u001b[0;36m<module>\u001b[1;34m()\u001b[0m\n\u001b[0;32m      1\u001b[0m \u001b[1;31m# Infinitely find prime numbers in lucas series\u001b[0m\u001b[1;33m\u001b[0m\u001b[1;33m\u001b[0m\u001b[0m\n\u001b[1;32m----> 2\u001b[1;33m \u001b[1;32mfor\u001b[0m \u001b[0mx\u001b[0m \u001b[1;32min\u001b[0m \u001b[1;33m(\u001b[0m\u001b[0mp\u001b[0m \u001b[1;32mfor\u001b[0m \u001b[0mp\u001b[0m \u001b[1;32min\u001b[0m \u001b[0mlucas\u001b[0m\u001b[1;33m(\u001b[0m\u001b[1;33m)\u001b[0m \u001b[1;32mif\u001b[0m \u001b[0mis_prime\u001b[0m\u001b[1;33m(\u001b[0m\u001b[0mp\u001b[0m\u001b[1;33m)\u001b[0m\u001b[1;33m)\u001b[0m\u001b[1;33m:\u001b[0m\u001b[1;33m\u001b[0m\u001b[0m\n\u001b[0m\u001b[0;32m      3\u001b[0m     \u001b[0mprint\u001b[0m\u001b[1;33m(\u001b[0m\u001b[0mx\u001b[0m\u001b[1;33m)\u001b[0m\u001b[1;33m\u001b[0m\u001b[0m\n",
      "\u001b[1;32m<ipython-input-43-850b26585746>\u001b[0m in \u001b[0;36m<genexpr>\u001b[1;34m(.0)\u001b[0m\n\u001b[0;32m      1\u001b[0m \u001b[1;31m# Infinitely find prime numbers in lucas series\u001b[0m\u001b[1;33m\u001b[0m\u001b[1;33m\u001b[0m\u001b[0m\n\u001b[1;32m----> 2\u001b[1;33m \u001b[1;32mfor\u001b[0m \u001b[0mx\u001b[0m \u001b[1;32min\u001b[0m \u001b[1;33m(\u001b[0m\u001b[0mp\u001b[0m \u001b[1;32mfor\u001b[0m \u001b[0mp\u001b[0m \u001b[1;32min\u001b[0m \u001b[0mlucas\u001b[0m\u001b[1;33m(\u001b[0m\u001b[1;33m)\u001b[0m \u001b[1;32mif\u001b[0m \u001b[0mis_prime\u001b[0m\u001b[1;33m(\u001b[0m\u001b[0mp\u001b[0m\u001b[1;33m)\u001b[0m\u001b[1;33m)\u001b[0m\u001b[1;33m:\u001b[0m\u001b[1;33m\u001b[0m\u001b[0m\n\u001b[0m\u001b[0;32m      3\u001b[0m     \u001b[0mprint\u001b[0m\u001b[1;33m(\u001b[0m\u001b[0mx\u001b[0m\u001b[1;33m)\u001b[0m\u001b[1;33m\u001b[0m\u001b[0m\n",
      "\u001b[1;32m<ipython-input-9-ae3b67959b9b>\u001b[0m in \u001b[0;36mis_prime\u001b[1;34m(x)\u001b[0m\n\u001b[0;32m      5\u001b[0m         \u001b[1;32mreturn\u001b[0m \u001b[1;32mFalse\u001b[0m\u001b[1;33m\u001b[0m\u001b[0m\n\u001b[0;32m      6\u001b[0m     \u001b[1;32mfor\u001b[0m \u001b[0mi\u001b[0m \u001b[1;32min\u001b[0m \u001b[0mrange\u001b[0m\u001b[1;33m(\u001b[0m\u001b[1;36m2\u001b[0m\u001b[1;33m,\u001b[0m \u001b[0mint\u001b[0m\u001b[1;33m(\u001b[0m\u001b[0msqrt\u001b[0m\u001b[1;33m(\u001b[0m\u001b[0mx\u001b[0m\u001b[1;33m)\u001b[0m\u001b[1;33m)\u001b[0m\u001b[1;33m+\u001b[0m\u001b[1;36m1\u001b[0m\u001b[1;33m)\u001b[0m\u001b[1;33m:\u001b[0m\u001b[1;33m\u001b[0m\u001b[0m\n\u001b[1;32m----> 7\u001b[1;33m         \u001b[1;32mif\u001b[0m \u001b[0mx\u001b[0m\u001b[1;33m%\u001b[0m\u001b[0mi\u001b[0m\u001b[1;33m==\u001b[0m\u001b[1;36m0\u001b[0m\u001b[1;33m:\u001b[0m\u001b[1;33m\u001b[0m\u001b[0m\n\u001b[0m\u001b[0;32m      8\u001b[0m             \u001b[1;32mreturn\u001b[0m \u001b[1;32mFalse\u001b[0m\u001b[1;33m\u001b[0m\u001b[0m\n\u001b[0;32m      9\u001b[0m     \u001b[1;32mreturn\u001b[0m \u001b[1;32mTrue\u001b[0m\u001b[1;33m\u001b[0m\u001b[0m\n",
      "\u001b[1;31mKeyboardInterrupt\u001b[0m: "
     ]
    }
   ],
   "source": [
    "# Infinitely find prime numbers in lucas series\n",
    "for x in (p for p in lucas() if is_prime(p)):\n",
    "    print(x)"
   ]
  }
 ],
 "metadata": {
  "kernelspec": {
   "display_name": "Python 3",
   "language": "python",
   "name": "python3"
  },
  "language_info": {
   "codemirror_mode": {
    "name": "ipython",
    "version": 3
   },
   "file_extension": ".py",
   "mimetype": "text/x-python",
   "name": "python",
   "nbconvert_exporter": "python",
   "pygments_lexer": "ipython3",
   "version": "3.5.1"
  }
 },
 "nbformat": 4,
 "nbformat_minor": 0
}
