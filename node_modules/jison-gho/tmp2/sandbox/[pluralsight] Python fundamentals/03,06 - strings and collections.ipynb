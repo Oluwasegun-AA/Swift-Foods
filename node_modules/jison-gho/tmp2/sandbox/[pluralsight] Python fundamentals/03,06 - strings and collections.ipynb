{
 "cells": [
  {
   "cell_type": "markdown",
   "metadata": {},
   "source": [
    "# str\n",
    "immutable _sequence_ of Unicode codepoints (homogeneous)"
   ]
  },
  {
   "cell_type": "code",
   "execution_count": 1,
   "metadata": {
    "collapsed": false
   },
   "outputs": [
    {
     "data": {
      "text/plain": [
       "'firstsecond'"
      ]
     },
     "execution_count": 1,
     "metadata": {},
     "output_type": "execute_result"
    }
   ],
   "source": [
    "\"first\" \"second\"  # concatenation"
   ]
  },
  {
   "cell_type": "code",
   "execution_count": 8,
   "metadata": {
    "collapsed": false
   },
   "outputs": [
    {
     "name": "stdout",
     "output_type": "stream",
     "text": [
      "This is\n",
      "a multiline\n",
      "string\n"
     ]
    },
    {
     "data": {
      "text/plain": [
       "'This is\\na multiline\\nstring'"
      ]
     },
     "execution_count": 8,
     "metadata": {},
     "output_type": "execute_result"
    }
   ],
   "source": [
    "# Strings with newlines: multiline strings, escape seq\n",
    "print(\"\"\"This is\n",
    "a multiline\n",
    "string\"\"\")\n",
    "print(\"This is\\na multiline\\nstring\")\n",
    "# \\n - universal newline (PEP-278)"
   ]
  },
  {
   "cell_type": "code",
   "execution_count": null,
   "metadata": {
    "collapsed": true
   },
   "outputs": [],
   "source": [
    "# Escape sequences: \\\\, \\\", etc.\n",
    "path = r'C:\\Users\\Merlin\\Documents' # r - raw string\n",
    "# no need for escape sequences"
   ]
  },
  {
   "cell_type": "code",
   "execution_count": null,
   "metadata": {
    "collapsed": true
   },
   "outputs": [],
   "source": [
    "# Strings are sequences\n",
    "s[4]  # retunrs full-blown string of 1 character"
   ]
  },
  {
   "cell_type": "code",
   "execution_count": 7,
   "metadata": {
    "collapsed": false
   },
   "outputs": [
    {
     "data": {
      "text/plain": [
       "'oslo'"
      ]
     },
     "execution_count": 7,
     "metadata": {},
     "output_type": "execute_result"
    }
   ],
   "source": [
    "# Use str() constructor to convert from other objects\n",
    "str(768)\n",
    "\n",
    "# Use help(str) to get list of functions\n",
    "c = 'oslo'\n",
    "c.capitalize()  # Immutable => returns a new string!!\n",
    "c # c remained unchanged"
   ]
  },
  {
   "cell_type": "code",
   "execution_count": 35,
   "metadata": {
    "collapsed": false
   },
   "outputs": [
    {
     "name": "stdout",
     "output_type": "stream",
     "text": [
      "25\n",
      "['3', '2', '4']\n",
      "un able\n"
     ]
    }
   ],
   "source": [
    "len([3,2,5])  \n",
    "len(\"llsajdkljsdkljs\")  # as with any other sequence\n",
    "\n",
    "print(\"2\"+\"5\")  # concat\n",
    "\"\".join([\"2\",\"5\"])  # join is more efficient\n",
    "\n",
    "print(\"2;\".join([\"3;\",\"4\"]).split(\";\"))\n",
    "\n",
    "s1, _, s3 = \"unforgetable\".partition(\"forget\") # returns tuple\n",
    "# _ - suppressing warnings for unused variables for \"_\"\n",
    "print(s1, s3)"
   ]
  },
  {
   "cell_type": "code",
   "execution_count": 90,
   "metadata": {
    "collapsed": false
   },
   "outputs": [
    {
     "data": {
      "text/plain": [
       "'Math constants: pi=3.142'"
      ]
     },
     "execution_count": 90,
     "metadata": {},
     "output_type": "execute_result"
    }
   ],
   "source": [
    "\"The age of {0} is {1}. Use {0} again.\".format('Jim',32)\n",
    "    #replacemen t fields\n",
    "    \n",
    "# otherwise can be omitted\n",
    "\"The age of {} is {}.\".format('Jim',32)\n",
    "# named\n",
    "\"Current position {latitude} {longitude}\".format(latitude=\"60N\", \n",
    "                                                 longitude=\"5E\")\n",
    "\n",
    "pos = (65.2, 23.1, 82.2)\n",
    "\"Galactic position x={pos[0]} y={pos[1]} z={pos[2]}\".format(pos=pos)\n",
    "\n",
    "import math\n",
    "\"Math constants: pi={m.pi:.3f}\".format(m=math)"
   ]
  },
  {
   "cell_type": "markdown",
   "metadata": {},
   "source": [
    "# bytes\n",
    "immutable _sequence_ of bytes (homogeneous)"
   ]
  },
  {
   "cell_type": "code",
   "execution_count": 12,
   "metadata": {
    "collapsed": false
   },
   "outputs": [
    {
     "data": {
      "text/plain": [
       "[b'some', b'data']"
      ]
     },
     "execution_count": 12,
     "metadata": {},
     "output_type": "execute_result"
    }
   ],
   "source": [
    "d = b'some data' \n",
    "d.split()\n",
    "\n",
    "# String = encoded bytes sequences\n",
    "# Bytes  = decoded string\n",
    "# Encodings: \n",
    "# https://docs.python.org/3/library/codecs.html#standard-encodings"
   ]
  },
  {
   "cell_type": "code",
   "execution_count": 1,
   "metadata": {
    "collapsed": false
   },
   "outputs": [
    {
     "name": "stdout",
     "output_type": "stream",
     "text": [
      "b'jeg begynte nesten \\xc3\\xa5 grine da jeg s\\xc3\\xa5 det' <class 'bytes'>\n",
      "jeg begynte nesten å grine da jeg så det <class 'str'>\n"
     ]
    }
   ],
   "source": [
    "norsk = \"jeg begynte nesten å grine da jeg så det\"\n",
    "data = norsk.encode(\"utf-8\")\n",
    "print(data, type(data))\n",
    "norwegian = data.decode(\"utf-8\")\n",
    "print(norwegian, type(norwegian))"
   ]
  },
  {
   "cell_type": "markdown",
   "metadata": {},
   "source": [
    "**Important!**\n",
    "\n",
    "Files, Network resources, HTTP resources are transmitted as byte-strings!"
   ]
  },
  {
   "cell_type": "markdown",
   "metadata": {},
   "source": [
    "# list\n",
    "mutable _sequence_ (of heterogeneous objects)"
   ]
  },
  {
   "cell_type": "code",
   "execution_count": null,
   "metadata": {
    "collapsed": true
   },
   "outputs": [],
   "source": [
    "b = [] # empty list\n",
    "b = [1,\n",
    "     2,\n",
    "     3,] # allowed comma after the last element\n",
    "# Use list constructor to create from other types\n",
    "list(\"characers\")"
   ]
  },
  {
   "cell_type": "code",
   "execution_count": 2,
   "metadata": {
    "collapsed": false
   },
   "outputs": [
    {
     "name": "stdout",
     "output_type": "stream",
     "text": [
      "['show', 'how', 'to', 'index', 'into', 'sequences']\n",
      "sequences\n",
      "['how', 'to', 'index']\n",
      "['how', 'to', 'index', 'into']\n",
      "['index', 'into', 'sequences']\n",
      "['show', 'how', 'to']\n",
      "['show', 'how', 'to', 'index', 'into', 'sequences']\n",
      "True\n",
      "False\n"
     ]
    }
   ],
   "source": [
    "s = \"show how to index into sequences\".split()\n",
    "# Slicing - works for any sequence\n",
    "print(s)\n",
    "print(s[-1]) # negative indexing: last element\n",
    "# print(s[-len(s)]) # first element - unpythonic\n",
    "print(s[1:4]) #slicing 3 words [1,4)\n",
    "print(s[1:-1]) #all but first and last\n",
    "print(s[3:]) #starting with the 3\n",
    "print(s[:3]) #up to but not including the 3\n",
    "print(s[:3]+s[3:]) # s[:x]+s[x:]==s\n",
    "a=s # equating references\n",
    "print(a is s) \n",
    "\n",
    "# copying a list (shallow copy)\n",
    "# create a new list ref containing the same object references\n",
    "a=s[:] # idiom \n",
    "a=s.copy()\n",
    "a=list(s) # constructor can be used with any iterable objects\n",
    "print(a is s)"
   ]
  },
  {
   "cell_type": "code",
   "execution_count": 48,
   "metadata": {
    "collapsed": false
   },
   "outputs": [
    {
     "name": "stdout",
     "output_type": "stream",
     "text": [
      "True\n",
      "False\n",
      "[[8, 9], [3, 4, 5]] -- [[1, 2], [3, 4, 5]]\n"
     ]
    }
   ],
   "source": [
    "# Shallow copying demonstration\n",
    "a = [[1,2],[3,4]] # Nested lists\n",
    "b = a[:]\n",
    "a is b #False (not identity)\n",
    "a == b #True (equality)\n",
    "print(a[0] is b[0]) #True\n",
    "\n",
    "a[0]=[8,9]  # new list, then assign reference a[0]\n",
    "print(a[0] is b[0]) # Now false\n",
    "a[1].append(5) # b[1] also changes due to mutability\n",
    "print(a, \"--\", b)"
   ]
  },
  {
   "cell_type": "code",
   "execution_count": 50,
   "metadata": {
    "collapsed": false
   },
   "outputs": [
    {
     "name": "stdout",
     "output_type": "stream",
     "text": [
      "[21, 37, 21, 37, 21, 37, 21, 37]\n",
      "[0, 0, 0, 0, 0, 0, 0, 0, 0]\n",
      "[[-1, 1], [-1, 1], [-1, 1], [-1, 1], [-1, 1]]\n",
      "[[-1, 1, 2], [-1, 1, 2], [-1, 1, 2], [-1, 1, 2], [-1, 1, 2]]\n"
     ]
    }
   ],
   "source": [
    "c = [21, 37]\n",
    "d = c*4 # list repetition\n",
    "print(d)\n",
    "print([0]*9) \n",
    "\n",
    "# Repetition will repeat the reference w/o copying a value\n",
    "s = [[-1,+1]]*5 # shallow\n",
    "print(s)\n",
    "s[0].append(2) # change is applied to all \n",
    "print(s)"
   ]
  },
  {
   "cell_type": "code",
   "execution_count": 52,
   "metadata": {
    "collapsed": false
   },
   "outputs": [
    {
     "name": "stdout",
     "output_type": "stream",
     "text": [
      "3 fox True\n",
      "['jackdaws', 'love', 'my', 'big', 'sphinx', 'of', 'quartz']\n",
      "['jackdaws', 'love', 'my', 'sphinx', 'of', 'quartz']\n",
      "['love', 'my', 'sphinx', 'of', 'quartz']\n",
      "love my big sphinx of quartz\n"
     ]
    }
   ],
   "source": [
    "w = \"the quick brown fox jumps over the lazy dog\".split()\n",
    "i = w.index('fox')\n",
    "# w.index('unicorn') # throws ValueError\n",
    "w.count('the')  # count # of occurences\n",
    "print(i,w[i], 'fox' in w)\n",
    "\n",
    "u = 'jackdaws love my big sphinx of quartz'.split()\n",
    "print(u)\n",
    "del u[3]\n",
    "print(u)\n",
    "u.remove('jackdaws') # <=> del u[u.index('jackdaws')]\n",
    "print(u)\n",
    "\n",
    "u.insert(2,'big') # accepts index of new item\n",
    "print(' '.join(u)) # calling join on space separator"
   ]
  },
  {
   "cell_type": "code",
   "execution_count": 84,
   "metadata": {
    "collapsed": false
   },
   "outputs": [
    {
     "name": "stdout",
     "output_type": "stream",
     "text": [
      "[2, 1, 3, 4, 7, 11, 18, 29, 47, 76, 129, 199]\n"
     ]
    },
    {
     "data": {
      "text/plain": [
       "[1, 2, 2, 3]"
      ]
     },
     "execution_count": 84,
     "metadata": {},
     "output_type": "execute_result"
    }
   ],
   "source": [
    "m = [2, 1, 3]\n",
    "n = [4, 7, 11]\n",
    "k = m+n  # merge, creates new list \n",
    "k += [18,29,47] # modifies assignee in place (same list)\n",
    "k.extend([76,129,199]) # modifies assignee in place (same list)\n",
    "print(k)\n",
    "\n",
    "sum([[1,2], [2,3]], []) # Trick to use sum on a collection of lists"
   ]
  },
  {
   "cell_type": "code",
   "execution_count": 5,
   "metadata": {
    "collapsed": false
   },
   "outputs": [
    {
     "name": "stdout",
     "output_type": "stream",
     "text": [
      "[1112111, 1211, 21, 11, 1]\n",
      "I do not know where company doctors illegibly perplexing handwriting\n",
      "<class 'list_reverseiterator'> <list_reverseiterator object at 0x000001BA5BA71860>\n"
     ]
    }
   ],
   "source": [
    "g = [1, 11, 21, 1211, 1112111]\n",
    "g.reverse() # reverse in place\n",
    "g.sort() # sort in place\n",
    "g.sort(reverse=True)\n",
    "print(g)\n",
    "\n",
    "# Key for sort should be a callable object\n",
    "# e.g. len is a callable object\n",
    "h = 'not perplexing do handwriting company where I illegibly know doctors'.split()\n",
    "h.sort(key=len)\n",
    "print(' '.join(h))\n",
    "\n",
    "# Sometimes we do not need soring in place\n",
    "# For example, if list is a function argument \n",
    "# (to not have side effects on the argument)\n",
    "x = [4, 9, 2, 1]\n",
    "y = sorted(x) # new list\n",
    "y = reversed(x) # new reversed iterator\n",
    "print(type(y),y)"
   ]
  },
  {
   "cell_type": "markdown",
   "metadata": {},
   "source": [
    "# tuple\n",
    "immutable _sequence_ (of heterogeneous objects)"
   ]
  },
  {
   "cell_type": "code",
   "execution_count": 22,
   "metadata": {
    "collapsed": false
   },
   "outputs": [
    {
     "name": "stdout",
     "output_type": "stream",
     "text": [
      "('Norway', 4.953)\n",
      "Norway\n",
      "4.953\n",
      "3\n",
      "('Norway', 4.953, 3, 338, 0, 32) ('Norway', 4.953, 3, 'Norway', 4.953, 3, 'Norway', 4.953, 3)\n",
      "1184\n"
     ]
    }
   ],
   "source": [
    "t=(\"Norway\",4.953,3)\n",
    "print(t[0:2])\n",
    "for item in t:  # iterating of\n",
    "    print(item)\n",
    "print (t+(338,0,32),t*3)  # + is concat, * is duplicaton!\n",
    "\n",
    "k = (391) # integer!\n",
    "k = (391,) #single-element tuple\n",
    "e = () #empty tuple\n",
    "\n",
    "# Nested tuples\n",
    "a = ((220, 284), (1184,1210))\n",
    "print(a[1][0])  # tuple #1, #0 element of it"
   ]
  },
  {
   "cell_type": "code",
   "execution_count": 26,
   "metadata": {
    "collapsed": false
   },
   "outputs": [
    {
     "name": "stdout",
     "output_type": "stream",
     "text": [
      "1 19\n",
      "('S', 't', 'r', 'i', 'n', 'g')\n"
     ]
    },
    {
     "data": {
      "text/plain": [
       "True"
      ]
     },
     "execution_count": 26,
     "metadata": {},
     "output_type": "execute_result"
    }
   ],
   "source": [
    "p = 1,1,1,4,6,19 # parentheses can be omitted\n",
    "def minmax(items):\n",
    "    return min(items), max(items)  # returning a tuple\n",
    "\n",
    "minmax(p)\n",
    "lower,upper = minmax(p) \n",
    "    # tuple unpacking - two separate references\n",
    "print(lower,upper)\n",
    "\n",
    "(a, (b, (c, d))) = (4, (3, (2, 1)))  \n",
    "    # tuple unpacking works for arbitrarily nested structures\n",
    "a='jelly'\n",
    "b='bean'\n",
    "a, b = b, a # swapping values\n",
    "\n",
    "# Using tuple constructor to create a tuple from other data structures\n",
    "tuple([561,2])\n",
    "print(tuple(\"String\"))\n",
    "\n",
    "5 in (3,5,17) # check that contains - like any collection"
   ]
  },
  {
   "cell_type": "markdown",
   "metadata": {},
   "source": [
    "# range\n",
    "(collection) (immutable) arithmetic progression of integers"
   ]
  },
  {
   "cell_type": "code",
   "execution_count": 36,
   "metadata": {
    "collapsed": false
   },
   "outputs": [
    {
     "data": {
      "text/plain": [
       "[5, 7, 9]"
      ]
     },
     "execution_count": 36,
     "metadata": {},
     "output_type": "execute_result"
    }
   ],
   "source": [
    "# range([start,]stop[,step])\n",
    "range(0,5) # [0,5)\n",
    "list(range(5,10,2))"
   ]
  },
  {
   "cell_type": "code",
   "execution_count": 101,
   "metadata": {
    "collapsed": false
   },
   "outputs": [
    {
     "name": "stdout",
     "output_type": "stream",
     "text": [
      "0\n",
      "1\n",
      "4\n",
      "6\n",
      "13\n",
      "0\n",
      "1\n",
      "4\n",
      "6\n",
      "13\n",
      "i=0, v=0\n",
      "i=1, v=1\n",
      "i=2, v=4\n",
      "i=3, v=6\n",
      "i=4, v=13\n"
     ]
    }
   ],
   "source": [
    "s = [0, 1, 4, 6, 13]\n",
    "# unPythonic:\n",
    "for i in range(len(s)):\n",
    "    print(s[i])\n",
    "\n",
    "# OK\n",
    "for v in s:\n",
    "    print(v)\n",
    "    \n",
    "# OK\n",
    "for i, v in enumerate(s): # yields (index, value) tuples\n",
    "    print(\"i={}, v={}\".format(i,v))\n",
    "# IMPORTANT NOTE: for dict, enumerate() is looping over keys (i, key), not pairs (key, value)!!"
   ]
  },
  {
   "cell_type": "markdown",
   "metadata": {},
   "source": [
    "# dict\n",
    "mutable mapping of keys to values (sometimes known as assosciative array)"
   ]
  },
  {
   "cell_type": "code",
   "execution_count": 59,
   "metadata": {
    "collapsed": false
   },
   "outputs": [
    {
     "name": "stdout",
     "output_type": "stream",
     "text": [
      "{'Charlie': 28, 'Alice': 32, 'Bob': 48}\n",
      "{'b': 'beta', 'c': 'charlie', 'a': 'alpha'}\n",
      "True True\n",
      "False True\n",
      "{'goldenrod': 14329120, 'Yandex': 'http://yandex.ru', 'Google': 'http://google.ru', 'indigo': 4915330, 'Pluralsight': 'http://pluralsight.com'}\n",
      "\n",
      "goldenrod => 14329120\n",
      "Yandex => http://yandex.ru\n",
      "Google => http://google.ru\n",
      "indigo => 4915330\n",
      "Pluralsight => http://pluralsight.com\n",
      "\n",
      "14329120\n",
      "http://yandex.ru\n",
      "http://google.ru\n",
      "4915330\n",
      "http://pluralsight.com\n",
      "\n",
      "goldenrod => 14329120\n",
      "Yandex => http://yandex.ru\n",
      "Google => http://google.ru\n",
      "indigo => 4915330\n",
      "Pluralsight => http://pluralsight.com\n"
     ]
    }
   ],
   "source": [
    "# keys are immutable (and hashable): strings, numbers, tuples\n",
    "# arbitrary order of items in dict\n",
    "urls={'Google': 'http://google.com',\n",
    "     'Pluralsight': 'http://pluralsight.com'}\n",
    "urls['Google']  # obtain value by key\n",
    "urls['Google'] = 'http://google.ru'  # update value by key\n",
    "urls['Yandex'] = 'http://yandex.ru'  # no key => new value\n",
    "{} # empty dict\n",
    "\n",
    "# Use dict constructor to conert from other data structures\n",
    "names_and_ages = [('Alice',32), ('Bob', 48), ('Charlie',28)]\n",
    "d = dict(names_and_ages) # dict constructor\n",
    "print(d)\n",
    "d = dict(a='alpha', b='beta', c='charlie') # from identifiers\n",
    "print(d)\n",
    "\n",
    "d = dict(goldenrod=0xDAA520, indigo=0x4B0082)\n",
    "e = d # same reference\n",
    "print (e is d, e['goldenrod'] is d['goldenrod']) \n",
    "# Copying dictionaries\n",
    "e = d.copy() # new shallow copy (new reference, objects the same)\n",
    "e = dict(e) # new shallow copy\n",
    "print (e is d, e['goldenrod'] is d['goldenrod'])\n",
    "\n",
    "d.update(urls) # merge another dictionary\n",
    "print(d) # values under same keys will be updated\n",
    "\n",
    "# Dicts are iterable => can be used in for loops\n",
    "print()\n",
    "for key in d: # <=> d.keys() - default view\n",
    "    print(\"{key} => {value}\".format(key=key,value=d[key]))\n",
    "\n",
    "print()\n",
    "for value in d.values(): # iterable view on dict's values\n",
    "    print(value)\n",
    "    \n",
    "print()\n",
    "for key, value in d.items(): # items() view\n",
    "    print(\"{key} => {value}\".format(key=key,value=value))\n",
    "    \n",
    "'Google' in d # works on keys\n",
    "del d['Google'] # remove by key"
   ]
  },
  {
   "cell_type": "code",
   "execution_count": 61,
   "metadata": {
    "collapsed": false
   },
   "outputs": [
    {
     "name": "stdout",
     "output_type": "stream",
     "text": [
      "{'Google': 'http://google.ru',\n",
      " 'Pluralsight': 'http://pluralsight.com',\n",
      " 'Yandex': 'http://yandex.ru'}\n"
     ]
    }
   ],
   "source": [
    "from pprint import pprint as pp \n",
    "# be careful not to rebind the module ref!\n",
    "pp(urls)"
   ]
  },
  {
   "cell_type": "code",
   "execution_count": 85,
   "metadata": {
    "collapsed": false
   },
   "outputs": [
    {
     "data": {
      "text/plain": [
       "'NOT PRESENT'"
      ]
     },
     "execution_count": 85,
     "metadata": {},
     "output_type": "execute_result"
    }
   ],
   "source": [
    "# Trick to check if present with inline ..if..else statement\n",
    "urls['SeriousZone'] if 'SeriosZone' in urls else 'NOT PRESENT'"
   ]
  },
  {
   "cell_type": "markdown",
   "metadata": {},
   "source": [
    "# set\n",
    "(mutable) unordered collection of unique, immutable objects\n",
    "* `frozenset` - immutable version of set => can be used as element of set\n",
    "* set elements are immutable (need to calculate hash)"
   ]
  },
  {
   "cell_type": "code",
   "execution_count": 63,
   "metadata": {
    "collapsed": false,
    "scrolled": true
   },
   "outputs": [
    {
     "name": "stdout",
     "output_type": "stream",
     "text": [
      "{8128, 496, 28, 6}\n",
      "{8128, 128, 2, 6, 496, 28}\n",
      "{8128, 128, 2, 496, 6, 28} False\n"
     ]
    }
   ],
   "source": [
    "p = {6, 28, 496, 8128}\n",
    "d = {} # empty dict!\n",
    "d = set() # empty set\n",
    "\n",
    "# use set constructor to create from other types\n",
    "s = set([2, 2, 4, 16, 64]) # removes duplicates\n",
    "# for, in, not in\n",
    "# sets are iterable, but the order is arbitrary\n",
    "\n",
    "print(p)\n",
    "p.add(2) # add new element to the set\n",
    "p.update([37,128]) # add new elements using constructor\n",
    "    # from any iterable series\n",
    "p.remove(37) # requires item to be present, otherwise -> error\n",
    "p.discard(37) # always succeeds\n",
    "print(p)\n",
    "\n",
    "# Reference copying:\n",
    "s = p\n",
    "\n",
    "# Shallow copying:\n",
    "s = p.copy() \n",
    "s = set(p)\n",
    "print(s, s is p)\n",
    "\n",
    "# Use deepcopy for deep copying"
   ]
  },
  {
   "cell_type": "code",
   "execution_count": 78,
   "metadata": {
    "collapsed": false
   },
   "outputs": [
    {
     "name": "stdout",
     "output_type": "stream",
     "text": [
      "p = {8128, 128, 2, 6, 496, 28}\n",
      "s = {64, 128, 2, 8128, 4, 6, 16, 496, 28}\n",
      "True\n",
      "{8128, 128, 2, 6, 496, 28}\n",
      "set()\n",
      "{64, 4, 16}\n",
      "True\n"
     ]
    }
   ],
   "source": [
    "# Set operations\n",
    "s = set([2, 2, 4, 16, 64]+list(p))\n",
    "print(\"p =\",p)\n",
    "print(\"s =\",s)\n",
    "p.union(s)\n",
    "print(p.union(s)==s)\n",
    "print(p.intersection(s))\n",
    "print(p.difference(s))\n",
    "print(p.symmetric_difference(s))\n",
    "print(p.issubset(s))"
   ]
  },
  {
   "cell_type": "markdown",
   "metadata": {},
   "source": [
    "# Collection prototols\n",
    "Types implement different protocols, hence define specific operations.\n",
    "* *Container* - all: in and not in\n",
    "* *Sized* - all: len(s)\n",
    "* *iterable* - all: for item in iterable: do_something(item)\n",
    "* *sequence* - all but dict: seq[index], seq.index(item), seq.count(item), reversed(seq)\n",
    "* *mutable sequence* - list\n",
    "* *mutable set* - set\n",
    "* *mustable mapping* - dict"
   ]
  }
 ],
 "metadata": {
  "kernelspec": {
   "display_name": "Python 3",
   "language": "python",
   "name": "python3"
  },
  "language_info": {
   "codemirror_mode": {
    "name": "ipython",
    "version": 3
   },
   "file_extension": ".py",
   "mimetype": "text/x-python",
   "name": "python",
   "nbconvert_exporter": "python",
   "pygments_lexer": "ipython3",
   "version": "3.5.1"
  }
 },
 "nbformat": 4,
 "nbformat_minor": 0
}
